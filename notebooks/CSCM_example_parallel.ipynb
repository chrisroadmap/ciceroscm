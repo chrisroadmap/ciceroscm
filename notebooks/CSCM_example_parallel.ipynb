{
 "cells": [
  {
   "cell_type": "markdown",
   "id": "12bc2f58",
   "metadata": {},
   "source": [
    "# CICERO SCM notebook parallel example"
   ]
  },
  {
   "cell_type": "markdown",
   "id": "72ab0c8d",
   "metadata": {},
   "source": [
    "Import some stuff"
   ]
  },
  {
   "cell_type": "code",
   "execution_count": 1,
   "id": "c722d7d9",
   "metadata": {},
   "outputs": [],
   "source": [
    "import sys\n",
    "import re\n",
    "import os\n",
    "import numpy as np\n",
    "import shutil\n",
    "import matplotlib.pyplot as plt\n",
    "import pandas as pd\n",
    "import pandas.testing as pdt\n",
    "import warnings\n",
    "from pandas.core.common import SettingWithCopyWarning\n",
    "warnings.simplefilter(action=\"ignore\", category=SettingWithCopyWarning)"
   ]
  },
  {
   "cell_type": "markdown",
   "id": "90503e7a",
   "metadata": {},
   "source": [
    "Import the model"
   ]
  },
  {
   "cell_type": "code",
   "execution_count": 2,
   "id": "3476370e",
   "metadata": {},
   "outputs": [],
   "source": [
    "sys.path.insert(0,os.path.join(os.getcwd(), '../', 'src'))\n",
    "from ciceroscm import CICEROSCM"
   ]
  },
  {
   "cell_type": "markdown",
   "id": "9f3b496a",
   "metadata": {},
   "source": [
    "Define some input handling functions to give us example inputs"
   ]
  },
  {
   "cell_type": "code",
   "execution_count": 3,
   "id": "ac369f86",
   "metadata": {},
   "outputs": [
    {
     "data": {
      "application/javascript": [
       "if (typeof IPython !== 'undefined') { IPython.OutputArea.prototype._should_scroll = function(lines){ return false; }}"
      ],
      "text/plain": [
       "<IPython.core.display.Javascript object>"
      ]
     },
     "metadata": {},
     "output_type": "display_data"
    },
    {
     "name": "stderr",
     "output_type": "stream",
     "text": [
      "/home/masan/gitrepos/ciceroscm/venv/lib/python3.7/site-packages/scmdata/database/_database.py:9: TqdmExperimentalWarning: Using `tqdm.autonotebook.tqdm` in notebook mode. Use `tqdm.tqdm` instead to force console mode (e.g. in jupyter console)\n",
      "  import tqdm.autonotebook as tqdman\n"
     ]
    }
   ],
   "source": [
    "# NBVAL_IGNORE_OUTPUT\n",
    "#from ciceroscm.input_handler import read_inputfile,read_components,read_natural_emissions\n",
    "from ciceroscm.parallel.cscmparwrapper import run_ciceroscm_parallel\n",
    "import ciceroscm.input_handler as input_handler"
   ]
  },
  {
   "cell_type": "markdown",
   "id": "5f066cf5",
   "metadata": {},
   "source": [
    "Define data directory"
   ]
  },
  {
   "cell_type": "code",
   "execution_count": 4,
   "id": "86b8b8e9",
   "metadata": {},
   "outputs": [],
   "source": [
    "test_data_dir = os.path.join(os.getcwd(), '../', 'tests', 'test-data')"
   ]
  },
  {
   "cell_type": "markdown",
   "id": "e64bc56d",
   "metadata": {},
   "source": [
    "Define emissions data"
   ]
  },
  {
   "cell_type": "code",
   "execution_count": 5,
   "id": "8752dfca",
   "metadata": {},
   "outputs": [],
   "source": [
    "\n",
    "gaspam_data = input_handler.read_components(\n",
    "    os.path.join(test_data_dir, \"gases_v1RCMIP.txt\")\n",
    ")\n",
    "conc_data = input_handler.read_inputfile(\n",
    "    os.path.join(test_data_dir, \"ssp245_conc_RCMIP.txt\"), True, 1750, 2100\n",
    ")\n",
    "ih = input_handler.InputHandler({\"nyend\": 2050, \"nystart\": 1900, \"emstart\": 2015})\n",
    "em_data = ih.read_emissions(os.path.join(test_data_dir, \"ssp245_em_RCMIP.txt\"))\n",
    "nat_ch4_data = input_handler.read_natural_emissions(\n",
    "    os.path.join(test_data_dir, \"natemis_ch4.txt\"), \"CH4\"\n",
    ")\n",
    "nat_n2o_data = input_handler.read_natural_emissions(\n",
    "    os.path.join(test_data_dir, \"natemis_n2o.txt\"), \"N2O\"\n",
    ")"
   ]
  },
  {
   "cell_type": "markdown",
   "id": "67833242",
   "metadata": {},
   "source": [
    "Make a list of dictionaries to define the parameter ensemble - keys should be pamset_udm, pamset_emiconc and Index..."
   ]
  },
  {
   "cell_type": "code",
   "execution_count": 6,
   "id": "9cfe541b",
   "metadata": {},
   "outputs": [],
   "source": [
    "   cfgs = [\n",
    "        {\n",
    "            \"pamset_udm\": {\n",
    "                \"rlamdo\": 15.1,\n",
    "                \"akapa\": 0.657,\n",
    "                \"cpi\": 0.208,\n",
    "                \"W\": 2.2,\n",
    "                \"beto\": 6.9,\n",
    "                \"lambda\": 0.606,\n",
    "                \"mixed\": 107.0,\n",
    "            },\n",
    "            \"pamset_emiconc\": {\n",
    "                \"qbmb\": 0.0,\n",
    "                \"qo3\": 0.5,\n",
    "                \"qdirso2\": -0.3701,\n",
    "                \"qindso2\": -0.4163,\n",
    "                \"qbc\": 0.163,\n",
    "                \"qoc\": -0.084,\n",
    "                \"qh2o_ch4\": 0.171,\n",
    "            },\n",
    "            \"Index\": \"13555_old_NR_rounded\",\n",
    "        },\n",
    "        {\n",
    "            \"pamset_udm\": {\n",
    "                \"rlamdo\": 15.08357,\n",
    "                \"akapa\": 0.6568376339229769,\n",
    "                \"cpi\": 0.2077266,\n",
    "                \"W\": 2.205919,\n",
    "                \"beto\": 6.89822,\n",
    "                \"lambda\": 0.6062529,\n",
    "                \"mixed\": 107.2422,\n",
    "            },\n",
    "            \"pamset_emiconc\": {\n",
    "                \"qbmb\": 0.0,\n",
    "                \"qo3\": 0.5,\n",
    "                \"qdirso2\": -0.3562,\n",
    "                \"qindso2\": -0.96609,\n",
    "                \"qbc\": 0.1566,\n",
    "                \"qoc\": -0.0806,\n",
    "            },\n",
    "            \"Index\": \"13555_old_NR_improved\",\n",
    "        },\n",
    "        {\n",
    "            \"pamset_udm\": {\n",
    "                \"rlamdo\": 15.08357,\n",
    "                \"akapa\": 0.6568376339229769,\n",
    "                \"cpi\": 0.2077266,\n",
    "                \"W\": 2.205919,\n",
    "                \"beto\": 6.89822,\n",
    "                \"lambda\": 0.6062529,\n",
    "                \"mixed\": 107.2422,\n",
    "            },\n",
    "            \"pamset_emiconc\": {\n",
    "                \"qbmb\": 0.0,\n",
    "                \"qo3\": 0.5,\n",
    "                \"qdirso2\": -0.3701323367808028 / 1.5,\n",
    "                \"qindso2\": -0.4162980444986502 * 1.5,\n",
    "                \"qbc\": 0.162692563111132,\n",
    "                \"qoc\": -0.08377713183167902,\n",
    "            },\n",
    "            \"Index\": \"13555_old_NR\",\n",
    "        },\n",
    "        {\n",
    "            \"pamset_udm\": {\n",
    "                \"rlamdo\": 5.269455,\n",
    "                \"akapa\": 0.40099950002568496,\n",
    "                \"cpi\": 0.2054687,\n",
    "                \"W\": 1.95183,\n",
    "                \"beto\": 3.278654,\n",
    "                \"lambda\": 0.7308369,\n",
    "                \"mixed\": 115.1219,\n",
    "            },\n",
    "            \"pamset_emiconc\": {\n",
    "                \"qbmb\": 0.0,\n",
    "                \"qo3\": 0.3,\n",
    "                \"qdirso2\": -0.32211222516087934,\n",
    "                \"qindso2\": -0.3622885009449893,\n",
    "                \"qbc\": 0.1415852070009452,\n",
    "                \"qoc\": -0.07290808089507649,\n",
    "            },\n",
    "            \"Index\": \"10496_old_NR\",\n",
    "        },\n",
    "        {\n",
    "            \"pamset_udm\": {\n",
    "                \"rlamdo\": 5.269455,\n",
    "                \"akapa\": 0.40099950002568496,\n",
    "                \"cpi\": 0.2054687,\n",
    "                \"W\": 1.95183,\n",
    "                \"beto\": 3.278654,\n",
    "                \"lambda\": 0.7308369,\n",
    "                \"mixed\": 115.1219,\n",
    "            },\n",
    "            \"pamset_emiconc\": {\n",
    "                \"qbmb\": 0.0,\n",
    "                \"qo3\": 0.3,\n",
    "                \"qdirso2\": -0.32211222516087934,\n",
    "                \"qindso2\": -0.3622885009449893,\n",
    "                \"qbc\": 0.1415852070009452,\n",
    "                \"qoc\": -0.07290808089507649,\n",
    "            },\n",
    "            \"Index\": \"10974_old_NR\",\n",
    "        },\n",
    "        {\n",
    "            \"pamset_udm\": {\n",
    "                \"rlamdo\": 23.71469,\n",
    "                \"akapa\": 0.5486541129586187,\n",
    "                \"cpi\": 0.4059296,\n",
    "                \"W\": 2.090927,\n",
    "                \"beto\": 4.426507,\n",
    "                \"lambda\": 0.6345007,\n",
    "                \"mixed\": 97.25478,\n",
    "            },\n",
    "            \"pamset_emiconc\": {\n",
    "                \"qbmb\": 0.0,\n",
    "                \"qo3\": 0.3,\n",
    "                \"qdirso2\": -0.4031202924043847,\n",
    "                \"qindso2\": -0.453400507735301,\n",
    "                \"qbc\": 0.17719249872571508,\n",
    "                \"qoc\": -0.09124374858602939,\n",
    "            },\n",
    "            \"Index\": \"Unknown_old_NR\",\n",
    "        },\n",
    "        {\n",
    "            \"pamset_udm\": {\n",
    "                \"rlamdo\": 23.13088,\n",
    "                \"akapa\": 0.6588532950589802,\n",
    "                \"cpi\": 0.1690946,\n",
    "                \"W\": 2.228695,\n",
    "                \"beto\": 2.623041,\n",
    "                \"lambda\": 0.5402487,\n",
    "                \"mixed\": 99.86714,\n",
    "            },\n",
    "            \"pamset_emiconc\": {\n",
    "                \"qbmb\": 0.0,\n",
    "                \"qo3\": 0.3,\n",
    "                \"qdirso2\": -0.882827534329248,\n",
    "                \"qindso2\": -0.9929404692583796,\n",
    "                \"qbc\": 0.3880489761967636,\n",
    "                \"qoc\": -0.1998224726091362,\n",
    "            },\n",
    "            \"Index\": \"28925_old_NR\",\n",
    "        },\n",
    "    ]"
   ]
  },
  {
   "cell_type": "markdown",
   "id": "60c97364",
   "metadata": {},
   "source": [
    "Define scenarios as a list of dictionaries."
   ]
  },
  {
   "cell_type": "code",
   "execution_count": 7,
   "id": "358ec8e4",
   "metadata": {},
   "outputs": [],
   "source": [
    "scenarios=[]\n",
    "for i in range(3):\n",
    "    em_data_here = em_data.mul((1 + i / 5))\n",
    "    new_scen = {\n",
    "        \"gaspam_data\": gaspam_data,\n",
    "        \"nyend\": 2050,\n",
    "        \"nystart\": 1900,\n",
    "        \"emstart\": 2015,\n",
    "        \"concentrations_data\": conc_data,\n",
    "        \"nat_ch4_data\": nat_ch4_data,\n",
    "        \"nat_n2o_data\": nat_n2o_data,\n",
    "        \"emissions_data\": em_data_here,\n",
    "        \"udir\": test_data_dir,\n",
    "        \"idtm\":24,\n",
    "        \"scenname\": \"ssp245-plus-%d-percent\" % np.multiply(i,20.),\n",
    "    }\n",
    "    scenarios.append(new_scen)\n",
    "    \n",
    "    "
   ]
  },
  {
   "cell_type": "markdown",
   "id": "ec399493",
   "metadata": {},
   "source": [
    "Parallel processor loops over all scenarios and configuration lists"
   ]
  },
  {
   "cell_type": "code",
   "execution_count": 8,
   "id": "13f76742",
   "metadata": {},
   "outputs": [
    {
     "data": {
      "application/vnd.jupyter.widget-view+json": {
       "model_id": "fc259e8df083451f9856dc21f06b4417",
       "version_major": 2,
       "version_minor": 0
      },
      "text/plain": [
       "Parallel runs:   0%|          | 0.00/6.00 [00:00<?, ?it/s]"
      ]
     },
     "metadata": {},
     "output_type": "display_data"
    },
    {
     "name": "stderr",
     "output_type": "stream",
     "text": [
      "Parameter udir is not used. Please check if you have a typo\n",
      "Parameter scenname is not used. Please check if you have a typo\n",
      "Parameter udir is not used. Please check if you have a typoParameter udir is not used. Please check if you have a typo\n",
      "Parameter udir is not used. Please check if you have a typo\n",
      "Parameter scenname is not used. Please check if you have a typoParameter scenname is not used. Please check if you have a typo\n",
      "\n",
      "\n",
      "Parameter scenname is not used. Please check if you have a typo\n",
      "Parameter threstemp not in pamset. Using default value 7.0\n",
      "Parameter foan not in pamset. Using default value 0.61\n",
      "Parameter foas not in pamset. Using default value 0.81\n",
      "Parameter ebbeta not in pamset. Using default value 0.0\n",
      "Parameter fnso not in pamset. Using default value 0.7531\n",
      "Parameter lm not in pamset. Using default value 40Parameter threstemp not in pamset. Using default value 7.0\n",
      "\n",
      "Parameter foan not in pamset. Using default value 0.61Parameter ldtime not in pamset. Using default value 12\n",
      "\n",
      "Parameter foas not in pamset. Using default value 0.81Parameter threstemp not in pamset. Using default value 7.0Parameter ref_yr not in pamset. Using default value 2010\n",
      "\n",
      "\n",
      "Parameter threstemp not in pamset. Using default value 7.0Parameter foan not in pamset. Using default value 0.61Parameter ebbeta not in pamset. Using default value 0.0Parameter beta_f not in pamset. Using default value 0.287\n",
      "\n",
      "\n",
      "\n",
      "Parameter foan not in pamset. Using default value 0.61Parameter foas not in pamset. Using default value 0.81Parameter fnso not in pamset. Using default value 0.7531\n",
      "\n",
      "\n",
      "Parameter foas not in pamset. Using default value 0.81Parameter lm not in pamset. Using default value 40Parameter ebbeta not in pamset. Using default value 0.0\n",
      "\n",
      "\n",
      "Parameter ebbeta not in pamset. Using default value 0.0Parameter ldtime not in pamset. Using default value 12Parameter fnso not in pamset. Using default value 0.7531\n",
      "\n",
      "\n",
      "Parameter fnso not in pamset. Using default value 0.7531Parameter qh2o_ch4 not in pamset. Using default value 0.091915Parameter lm not in pamset. Using default value 40\n",
      "\n",
      "\n",
      "Parameter lm not in pamset. Using default value 40Parameter ref_yr not in pamset. Using default value 2010Parameter ldtime not in pamset. Using default value 12\n",
      "\n",
      "\n",
      "Parameter ldtime not in pamset. Using default value 12Parameter beta_f not in pamset. Using default value 0.287\n",
      "\n",
      "Parameter ref_yr not in pamset. Using default value 2010Parameter qh2o_ch4 not in pamset. Using default value 0.091915\n",
      "\n",
      "Parameter beta_f not in pamset. Using default value 0.287Parameter ref_yr not in pamset. Using default value 2010\n",
      "\n",
      "Parameter beta_f not in pamset. Using default value 0.287\n"
     ]
    },
    {
     "name": "stdout",
     "output_type": "stream",
     "text": [
      "Heat Content|Ocean\n",
      "Surface Air Temperature Change\n",
      "Heat Content|Ocean\n"
     ]
    },
    {
     "name": "stderr",
     "output_type": "stream",
     "text": [
      "Parameter threstemp not in pamset. Using default value 7.0\n",
      "Parameter foan not in pamset. Using default value 0.61\n",
      "Parameter foas not in pamset. Using default value 0.81\n",
      "Parameter ebbeta not in pamset. Using default value 0.0\n",
      "Parameter fnso not in pamset. Using default value 0.7531\n"
     ]
    },
    {
     "name": "stdout",
     "output_type": "stream",
     "text": [
      "Surface Air Temperature Change"
     ]
    },
    {
     "name": "stderr",
     "output_type": "stream",
     "text": [
      "Parameter lm not in pamset. Using default value 40"
     ]
    },
    {
     "name": "stdout",
     "output_type": "stream",
     "text": [
      "\n"
     ]
    },
    {
     "name": "stderr",
     "output_type": "stream",
     "text": [
      "\n",
      "Parameter ldtime not in pamset. Using default value 12\n",
      "Parameter qh2o_ch4 not in pamset. Using default value 0.091915\n"
     ]
    },
    {
     "name": "stdout",
     "output_type": "stream",
     "text": [
      "Heat Content|Ocean"
     ]
    },
    {
     "name": "stderr",
     "output_type": "stream",
     "text": [
      "Parameter ref_yr not in pamset. Using default value 2010"
     ]
    },
    {
     "name": "stdout",
     "output_type": "stream",
     "text": [
      "\n"
     ]
    },
    {
     "name": "stderr",
     "output_type": "stream",
     "text": [
      "\n",
      "Parameter beta_f not in pamset. Using default value 0.287Parameter threstemp not in pamset. Using default value 7.0\n",
      "\n",
      "Parameter foan not in pamset. Using default value 0.61\n",
      "Parameter foas not in pamset. Using default value 0.81\n",
      "Parameter ebbeta not in pamset. Using default value 0.0\n",
      "Parameter fnso not in pamset. Using default value 0.7531"
     ]
    },
    {
     "name": "stdout",
     "output_type": "stream",
     "text": [
      "Heat Content|OceanSurface Air Temperature Change\n"
     ]
    },
    {
     "name": "stderr",
     "output_type": "stream",
     "text": [
      "\n"
     ]
    },
    {
     "name": "stdout",
     "output_type": "stream",
     "text": [
      "\n"
     ]
    },
    {
     "name": "stderr",
     "output_type": "stream",
     "text": [
      "Parameter lm not in pamset. Using default value 40\n",
      "Parameter ldtime not in pamset. Using default value 12\n",
      "Parameter qh2o_ch4 not in pamset. Using default value 0.091915\n",
      "Parameter ref_yr not in pamset. Using default value 2010"
     ]
    },
    {
     "name": "stdout",
     "output_type": "stream",
     "text": [
      "Surface Air Temperature Change"
     ]
    },
    {
     "name": "stderr",
     "output_type": "stream",
     "text": [
      "\n",
      "Parameter threstemp not in pamset. Using default value 7.0"
     ]
    },
    {
     "name": "stdout",
     "output_type": "stream",
     "text": [
      "\n"
     ]
    },
    {
     "name": "stderr",
     "output_type": "stream",
     "text": [
      "Parameter beta_f not in pamset. Using default value 0.287\n",
      "Parameter foan not in pamset. Using default value 0.61\n",
      "\n",
      "Parameter foas not in pamset. Using default value 0.81\n",
      "Parameter ebbeta not in pamset. Using default value 0.0\n",
      "Parameter fnso not in pamset. Using default value 0.7531\n",
      "Parameter lm not in pamset. Using default value 40\n",
      "Parameter threstemp not in pamset. Using default value 7.0\n",
      "Parameter ldtime not in pamset. Using default value 12Parameter foan not in pamset. Using default value 0.61\n",
      "\n",
      "Parameter qh2o_ch4 not in pamset. Using default value 0.091915Parameter foas not in pamset. Using default value 0.81\n",
      "\n",
      "Parameter ebbeta not in pamset. Using default value 0.0Parameter ref_yr not in pamset. Using default value 2010\n",
      "\n",
      "Parameter fnso not in pamset. Using default value 0.7531Parameter beta_f not in pamset. Using default value 0.287\n",
      "\n",
      "Parameter lm not in pamset. Using default value 40\n",
      "Parameter ldtime not in pamset. Using default value 12\n",
      "Parameter qh2o_ch4 not in pamset. Using default value 0.091915\n",
      "Parameter ref_yr not in pamset. Using default value 2010\n",
      "Parameter beta_f not in pamset. Using default value 0.287\n"
     ]
    },
    {
     "name": "stdout",
     "output_type": "stream",
     "text": [
      "Heat Content|Ocean\n",
      "Surface Air Temperature Change\n",
      "Heat Content|Ocean\n",
      "Surface Air Temperature Change\n",
      "Heat Content|Ocean\n",
      "Heat Content|Ocean\n"
     ]
    },
    {
     "name": "stderr",
     "output_type": "stream",
     "text": [
      "Parameter udir is not used. Please check if you have a typo"
     ]
    },
    {
     "name": "stdout",
     "output_type": "stream",
     "text": [
      "Surface Air Temperature Change"
     ]
    },
    {
     "name": "stderr",
     "output_type": "stream",
     "text": [
      "\n"
     ]
    },
    {
     "name": "stdout",
     "output_type": "stream",
     "text": [
      "\n"
     ]
    },
    {
     "name": "stderr",
     "output_type": "stream",
     "text": [
      "Parameter scenname is not used. Please check if you have a typo\n"
     ]
    },
    {
     "name": "stdout",
     "output_type": "stream",
     "text": [
      "Surface Air Temperature Change\n"
     ]
    },
    {
     "name": "stderr",
     "output_type": "stream",
     "text": [
      "Parameter threstemp not in pamset. Using default value 7.0\n",
      "Parameter foan not in pamset. Using default value 0.61\n",
      "Parameter foas not in pamset. Using default value 0.81\n",
      "Parameter threstemp not in pamset. Using default value 7.0\n",
      "Parameter ebbeta not in pamset. Using default value 0.0Parameter foan not in pamset. Using default value 0.61\n",
      "Parameter fnso not in pamset. Using default value 0.7531\n",
      "\n",
      "Parameter foas not in pamset. Using default value 0.81Parameter lm not in pamset. Using default value 40\n",
      "\n",
      "Parameter ebbeta not in pamset. Using default value 0.0\n",
      "Parameter ldtime not in pamset. Using default value 12\n",
      "Parameter fnso not in pamset. Using default value 0.7531Parameter udir is not used. Please check if you have a typo\n",
      "Parameter qh2o_ch4 not in pamset. Using default value 0.091915\n",
      "\n",
      "Parameter lm not in pamset. Using default value 40Parameter scenname is not used. Please check if you have a typo\n",
      "\n",
      "Parameter ref_yr not in pamset. Using default value 2010\n",
      "Parameter ldtime not in pamset. Using default value 12\n",
      "Parameter beta_f not in pamset. Using default value 0.287\n",
      "Parameter qh2o_ch4 not in pamset. Using default value 0.091915\n",
      "Parameter ref_yr not in pamset. Using default value 2010\n",
      "Parameter beta_f not in pamset. Using default value 0.287Parameter threstemp not in pamset. Using default value 7.0\n",
      "\n",
      "Parameter foan not in pamset. Using default value 0.61\n",
      "Parameter foas not in pamset. Using default value 0.81\n",
      "Parameter ebbeta not in pamset. Using default value 0.0\n",
      "Parameter fnso not in pamset. Using default value 0.7531\n",
      "Parameter lm not in pamset. Using default value 40\n",
      "Parameter ldtime not in pamset. Using default value 12\n",
      "Parameter ref_yr not in pamset. Using default value 2010\n",
      "Parameter beta_f not in pamset. Using default value 0.287\n",
      "Parameter threstemp not in pamset. Using default value 7.0\n",
      "Parameter foan not in pamset. Using default value 0.61\n",
      "Parameter foas not in pamset. Using default value 0.81\n",
      "Parameter ebbeta not in pamset. Using default value 0.0\n",
      "Parameter fnso not in pamset. Using default value 0.7531\n",
      "Parameter lm not in pamset. Using default value 40\n",
      "Parameter ldtime not in pamset. Using default value 12\n",
      "Parameter qh2o_ch4 not in pamset. Using default value 0.091915\n",
      "Parameter ref_yr not in pamset. Using default value 2010\n",
      "Parameter beta_f not in pamset. Using default value 0.287\n"
     ]
    },
    {
     "name": "stdout",
     "output_type": "stream",
     "text": [
      "Heat Content|Ocean\n",
      "Surface Air Temperature Change\n"
     ]
    },
    {
     "name": "stderr",
     "output_type": "stream",
     "text": [
      "Parameter threstemp not in pamset. Using default value 7.0\n",
      "Parameter foan not in pamset. Using default value 0.61\n",
      "Parameter foas not in pamset. Using default value 0.81\n",
      "Parameter ebbeta not in pamset. Using default value 0.0\n",
      "Parameter fnso not in pamset. Using default value 0.7531\n",
      "Parameter lm not in pamset. Using default value 40\n",
      "Parameter ldtime not in pamset. Using default value 12\n",
      "Parameter qh2o_ch4 not in pamset. Using default value 0.091915\n",
      "Parameter ref_yr not in pamset. Using default value 2010\n",
      "Parameter beta_f not in pamset. Using default value 0.287\n"
     ]
    },
    {
     "name": "stdout",
     "output_type": "stream",
     "text": [
      "Heat Content|Ocean\n",
      "Heat Content|Ocean\n",
      "Surface Air Temperature Change\n",
      "Surface Air Temperature ChangeHeat Content|Ocean\n",
      "\n"
     ]
    },
    {
     "name": "stderr",
     "output_type": "stream",
     "text": [
      "Parameter threstemp not in pamset. Using default value 7.0\n",
      "Parameter foan not in pamset. Using default value 0.61\n",
      "Parameter foas not in pamset. Using default value 0.81\n",
      "Parameter ebbeta not in pamset. Using default value 0.0Parameter threstemp not in pamset. Using default value 7.0"
     ]
    },
    {
     "name": "stdout",
     "output_type": "stream",
     "text": [
      "Surface Air Temperature Change"
     ]
    },
    {
     "name": "stderr",
     "output_type": "stream",
     "text": [
      "\n",
      "\n"
     ]
    },
    {
     "name": "stdout",
     "output_type": "stream",
     "text": [
      "\n"
     ]
    },
    {
     "name": "stderr",
     "output_type": "stream",
     "text": [
      "Parameter foan not in pamset. Using default value 0.61Parameter fnso not in pamset. Using default value 0.7531\n",
      "\n",
      "Parameter foas not in pamset. Using default value 0.81Parameter lm not in pamset. Using default value 40\n",
      "\n",
      "Parameter ebbeta not in pamset. Using default value 0.0Parameter ldtime not in pamset. Using default value 12\n",
      "\n",
      "Parameter fnso not in pamset. Using default value 0.7531Parameter qh2o_ch4 not in pamset. Using default value 0.091915\n",
      "\n",
      "Parameter lm not in pamset. Using default value 40Parameter threstemp not in pamset. Using default value 7.0Parameter ref_yr not in pamset. Using default value 2010\n",
      "\n",
      "\n",
      "Parameter ldtime not in pamset. Using default value 12Parameter foan not in pamset. Using default value 0.61Parameter beta_f not in pamset. Using default value 0.287\n",
      "\n",
      "\n",
      "Parameter qh2o_ch4 not in pamset. Using default value 0.091915Parameter foas not in pamset. Using default value 0.81\n",
      "\n",
      "Parameter ref_yr not in pamset. Using default value 2010\n",
      "Parameter ebbeta not in pamset. Using default value 0.0Parameter beta_f not in pamset. Using default value 0.287\n",
      "\n",
      "Parameter fnso not in pamset. Using default value 0.7531\n",
      "Parameter lm not in pamset. Using default value 40\n",
      "Parameter ldtime not in pamset. Using default value 12\n",
      "Parameter qh2o_ch4 not in pamset. Using default value 0.091915\n",
      "Parameter ref_yr not in pamset. Using default value 2010\n",
      "Parameter beta_f not in pamset. Using default value 0.287\n"
     ]
    },
    {
     "name": "stdout",
     "output_type": "stream",
     "text": [
      "Heat Content|Ocean\n",
      "Surface Air Temperature Change\n"
     ]
    },
    {
     "name": "stderr",
     "output_type": "stream",
     "text": [
      "Parameter threstemp not in pamset. Using default value 7.0\n",
      "Parameter foan not in pamset. Using default value 0.61\n",
      "Parameter foas not in pamset. Using default value 0.81\n",
      "Parameter ebbeta not in pamset. Using default value 0.0\n",
      "Parameter fnso not in pamset. Using default value 0.7531\n",
      "Parameter lm not in pamset. Using default value 40\n",
      "Parameter ldtime not in pamset. Using default value 12\n",
      "Parameter qh2o_ch4 not in pamset. Using default value 0.091915\n",
      "Parameter ref_yr not in pamset. Using default value 2010\n",
      "Parameter beta_f not in pamset. Using default value 0.287\n"
     ]
    },
    {
     "name": "stdout",
     "output_type": "stream",
     "text": [
      "Heat Content|Ocean\n",
      "Surface Air Temperature Change\n",
      "Heat Content|Ocean\n",
      "Surface Air Temperature Change\n"
     ]
    },
    {
     "name": "stderr",
     "output_type": "stream",
     "text": [
      "Parameter threstemp not in pamset. Using default value 7.0\n",
      "Parameter foan not in pamset. Using default value 0.61\n",
      "Parameter foas not in pamset. Using default value 0.81\n",
      "Parameter ebbeta not in pamset. Using default value 0.0\n",
      "Parameter fnso not in pamset. Using default value 0.7531\n",
      "Parameter lm not in pamset. Using default value 40\n",
      "Parameter ldtime not in pamset. Using default value 12\n",
      "Parameter qh2o_ch4 not in pamset. Using default value 0.091915\n",
      "Parameter ref_yr not in pamset. Using default value 2010\n",
      "Parameter beta_f not in pamset. Using default value 0.287\n"
     ]
    },
    {
     "name": "stdout",
     "output_type": "stream",
     "text": [
      "Heat Content|Ocean\n",
      "Surface Air Temperature Change\n"
     ]
    },
    {
     "name": "stderr",
     "output_type": "stream",
     "text": [
      "Parameter threstemp not in pamset. Using default value 7.0\n",
      "Parameter foan not in pamset. Using default value 0.61\n",
      "Parameter foas not in pamset. Using default value 0.81\n",
      "Parameter ebbeta not in pamset. Using default value 0.0\n",
      "Parameter fnso not in pamset. Using default value 0.7531\n",
      "Parameter lm not in pamset. Using default value 40\n",
      "Parameter ldtime not in pamset. Using default value 12\n",
      "Parameter qh2o_ch4 not in pamset. Using default value 0.091915\n",
      "Parameter ref_yr not in pamset. Using default value 2010\n",
      "Parameter beta_f not in pamset. Using default value 0.287\n"
     ]
    },
    {
     "name": "stdout",
     "output_type": "stream",
     "text": [
      "Heat Content|Ocean\n",
      "Surface Air Temperature Change\n"
     ]
    },
    {
     "name": "stderr",
     "output_type": "stream",
     "text": [
      "Parameter threstemp not in pamset. Using default value 7.0\n",
      "Parameter foan not in pamset. Using default value 0.61\n",
      "Parameter foas not in pamset. Using default value 0.81\n",
      "Parameter ebbeta not in pamset. Using default value 0.0\n",
      "Parameter fnso not in pamset. Using default value 0.7531\n",
      "Parameter lm not in pamset. Using default value 40\n",
      "Parameter ldtime not in pamset. Using default value 12\n",
      "Parameter qh2o_ch4 not in pamset. Using default value 0.091915\n",
      "Parameter ref_yr not in pamset. Using default value 2010\n",
      "Parameter beta_f not in pamset. Using default value 0.287\n"
     ]
    },
    {
     "name": "stdout",
     "output_type": "stream",
     "text": [
      "Heat Content|Ocean\n",
      "Surface Air Temperature Change\n",
      "Heat Content|Ocean\n",
      "Surface Air Temperature Change\n",
      "Heat Content|Ocean\n",
      "Surface Air Temperature Change\n"
     ]
    },
    {
     "name": "stderr",
     "output_type": "stream",
     "text": [
      "Parameter threstemp not in pamset. Using default value 7.0\n",
      "Parameter foan not in pamset. Using default value 0.61\n",
      "Parameter foas not in pamset. Using default value 0.81\n",
      "Parameter ebbeta not in pamset. Using default value 0.0\n",
      "Parameter fnso not in pamset. Using default value 0.7531\n",
      "Parameter lm not in pamset. Using default value 40\n",
      "Parameter ldtime not in pamset. Using default value 12\n",
      "Parameter qh2o_ch4 not in pamset. Using default value 0.091915\n",
      "Parameter ref_yr not in pamset. Using default value 2010\n",
      "Parameter beta_f not in pamset. Using default value 0.287\n"
     ]
    },
    {
     "name": "stdout",
     "output_type": "stream",
     "text": [
      "Heat Content|Ocean\n",
      "Surface Air Temperature Change\n"
     ]
    }
   ],
   "source": [
    "# NBVAL_IGNORE_OUTPUT\n",
    "output_variables = [\"Heat Content|Ocean\", \"Surface Air Temperature Change\"]\n",
    "results = run_ciceroscm_parallel(scenarios, cfgs, output_variables)\n"
   ]
  },
  {
   "cell_type": "markdown",
   "id": "fdd94418",
   "metadata": {},
   "source": [
    "Look at the output openSCMrunner object"
   ]
  },
  {
   "cell_type": "code",
   "execution_count": 9,
   "id": "e45bd473",
   "metadata": {},
   "outputs": [
    {
     "data": {
      "text/html": [
       "<div>\n",
       "<style scoped>\n",
       "    .dataframe tbody tr th:only-of-type {\n",
       "        vertical-align: middle;\n",
       "    }\n",
       "\n",
       "    .dataframe tbody tr th {\n",
       "        vertical-align: top;\n",
       "    }\n",
       "\n",
       "    .dataframe thead th {\n",
       "        text-align: right;\n",
       "    }\n",
       "</style>\n",
       "<table border=\"1\" class=\"dataframe\">\n",
       "  <thead>\n",
       "    <tr style=\"text-align: right;\">\n",
       "      <th></th>\n",
       "      <th></th>\n",
       "      <th></th>\n",
       "      <th></th>\n",
       "      <th></th>\n",
       "      <th></th>\n",
       "      <th>time</th>\n",
       "      <th>1900-01-01</th>\n",
       "      <th>1901-01-01</th>\n",
       "      <th>1902-01-01</th>\n",
       "      <th>1903-01-01</th>\n",
       "      <th>1904-01-01</th>\n",
       "      <th>1905-01-01</th>\n",
       "      <th>1906-01-01</th>\n",
       "      <th>1907-01-01</th>\n",
       "      <th>1908-01-01</th>\n",
       "      <th>1909-01-01</th>\n",
       "      <th>...</th>\n",
       "      <th>2041-01-01</th>\n",
       "      <th>2042-01-01</th>\n",
       "      <th>2043-01-01</th>\n",
       "      <th>2044-01-01</th>\n",
       "      <th>2045-01-01</th>\n",
       "      <th>2046-01-01</th>\n",
       "      <th>2047-01-01</th>\n",
       "      <th>2048-01-01</th>\n",
       "      <th>2049-01-01</th>\n",
       "      <th>2050-01-01</th>\n",
       "    </tr>\n",
       "    <tr>\n",
       "      <th>climate_model</th>\n",
       "      <th>model</th>\n",
       "      <th>region</th>\n",
       "      <th>run_id</th>\n",
       "      <th>scenario</th>\n",
       "      <th>unit</th>\n",
       "      <th>variable</th>\n",
       "      <th></th>\n",
       "      <th></th>\n",
       "      <th></th>\n",
       "      <th></th>\n",
       "      <th></th>\n",
       "      <th></th>\n",
       "      <th></th>\n",
       "      <th></th>\n",
       "      <th></th>\n",
       "      <th></th>\n",
       "      <th></th>\n",
       "      <th></th>\n",
       "      <th></th>\n",
       "      <th></th>\n",
       "      <th></th>\n",
       "      <th></th>\n",
       "      <th></th>\n",
       "      <th></th>\n",
       "      <th></th>\n",
       "      <th></th>\n",
       "      <th></th>\n",
       "    </tr>\n",
       "  </thead>\n",
       "  <tbody>\n",
       "    <tr>\n",
       "      <th rowspan=\"5\" valign=\"top\">CICERO-SCM-PY</th>\n",
       "      <th rowspan=\"5\" valign=\"top\">ssp245-plus-0-percent</th>\n",
       "      <th rowspan=\"5\" valign=\"top\">World</th>\n",
       "      <th rowspan=\"2\" valign=\"top\">13555_old_NR_rounded</th>\n",
       "      <th rowspan=\"2\" valign=\"top\">ssp245-plus-0-percent</th>\n",
       "      <th>ZJ</th>\n",
       "      <th>Heat Content|Ocean</th>\n",
       "      <td>-1.599356</td>\n",
       "      <td>-4.281792</td>\n",
       "      <td>-6.631966</td>\n",
       "      <td>-8.751918</td>\n",
       "      <td>-10.661286</td>\n",
       "      <td>-12.387768</td>\n",
       "      <td>-13.969650</td>\n",
       "      <td>-15.455266</td>\n",
       "      <td>-16.747101</td>\n",
       "      <td>-17.857705</td>\n",
       "      <td>...</td>\n",
       "      <td>838.524889</td>\n",
       "      <td>850.981463</td>\n",
       "      <td>863.276908</td>\n",
       "      <td>875.401991</td>\n",
       "      <td>887.349330</td>\n",
       "      <td>899.113013</td>\n",
       "      <td>910.688309</td>\n",
       "      <td>922.071462</td>\n",
       "      <td>933.259533</td>\n",
       "      <td>944.250274</td>\n",
       "    </tr>\n",
       "    <tr>\n",
       "      <th>K</th>\n",
       "      <th>Surface Air Temperature Change</th>\n",
       "      <td>-0.013860</td>\n",
       "      <td>-0.033694</td>\n",
       "      <td>-0.041915</td>\n",
       "      <td>-0.047794</td>\n",
       "      <td>-0.052142</td>\n",
       "      <td>-0.055346</td>\n",
       "      <td>-0.058010</td>\n",
       "      <td>-0.060406</td>\n",
       "      <td>-0.061653</td>\n",
       "      <td>-0.061898</td>\n",
       "      <td>...</td>\n",
       "      <td>1.511696</td>\n",
       "      <td>1.521541</td>\n",
       "      <td>1.530892</td>\n",
       "      <td>1.539713</td>\n",
       "      <td>1.547989</td>\n",
       "      <td>1.555716</td>\n",
       "      <td>1.562899</td>\n",
       "      <td>1.569544</td>\n",
       "      <td>1.575662</td>\n",
       "      <td>1.581262</td>\n",
       "    </tr>\n",
       "    <tr>\n",
       "      <th rowspan=\"2\" valign=\"top\">13555_old_NR_improved</th>\n",
       "      <th rowspan=\"2\" valign=\"top\">ssp245-plus-0-percent</th>\n",
       "      <th>ZJ</th>\n",
       "      <th>Heat Content|Ocean</th>\n",
       "      <td>-2.340682</td>\n",
       "      <td>-6.317204</td>\n",
       "      <td>-9.891925</td>\n",
       "      <td>-13.226613</td>\n",
       "      <td>-16.337377</td>\n",
       "      <td>-19.261007</td>\n",
       "      <td>-22.061527</td>\n",
       "      <td>-24.834662</td>\n",
       "      <td>-27.381023</td>\n",
       "      <td>-29.700814</td>\n",
       "      <td>...</td>\n",
       "      <td>638.214819</td>\n",
       "      <td>650.905546</td>\n",
       "      <td>663.467891</td>\n",
       "      <td>675.891979</td>\n",
       "      <td>688.169853</td>\n",
       "      <td>700.295075</td>\n",
       "      <td>712.262418</td>\n",
       "      <td>724.067665</td>\n",
       "      <td>735.707434</td>\n",
       "      <td>747.179059</td>\n",
       "    </tr>\n",
       "    <tr>\n",
       "      <th>K</th>\n",
       "      <th>Surface Air Temperature Change</th>\n",
       "      <td>-0.020305</td>\n",
       "      <td>-0.049749</td>\n",
       "      <td>-0.062778</td>\n",
       "      <td>-0.072834</td>\n",
       "      <td>-0.080934</td>\n",
       "      <td>-0.087539</td>\n",
       "      <td>-0.093679</td>\n",
       "      <td>-0.099885</td>\n",
       "      <td>-0.104323</td>\n",
       "      <td>-0.107051</td>\n",
       "      <td>...</td>\n",
       "      <td>1.297444</td>\n",
       "      <td>1.309758</td>\n",
       "      <td>1.321618</td>\n",
       "      <td>1.332984</td>\n",
       "      <td>1.343836</td>\n",
       "      <td>1.354170</td>\n",
       "      <td>1.363988</td>\n",
       "      <td>1.373294</td>\n",
       "      <td>1.382096</td>\n",
       "      <td>1.390405</td>\n",
       "    </tr>\n",
       "    <tr>\n",
       "      <th>13555_old_NR</th>\n",
       "      <th>ssp245-plus-0-percent</th>\n",
       "      <th>ZJ</th>\n",
       "      <th>Heat Content|Ocean</th>\n",
       "      <td>-1.716253</td>\n",
       "      <td>-4.604001</td>\n",
       "      <td>-7.150478</td>\n",
       "      <td>-9.467011</td>\n",
       "      <td>-11.572858</td>\n",
       "      <td>-13.497244</td>\n",
       "      <td>-15.282436</td>\n",
       "      <td>-16.984287</td>\n",
       "      <td>-18.488860</td>\n",
       "      <td>-19.806501</td>\n",
       "      <td>...</td>\n",
       "      <td>796.805158</td>\n",
       "      <td>809.213557</td>\n",
       "      <td>821.467621</td>\n",
       "      <td>833.558119</td>\n",
       "      <td>845.477664</td>\n",
       "      <td>857.220329</td>\n",
       "      <td>868.781361</td>\n",
       "      <td>880.156973</td>\n",
       "      <td>891.344191</td>\n",
       "      <td>902.340725</td>\n",
       "    </tr>\n",
       "  </tbody>\n",
       "</table>\n",
       "<p>5 rows × 151 columns</p>\n",
       "</div>"
      ],
      "text/plain": [
       "time                                                                                                                        1900-01-01  \\\n",
       "climate_model model                 region run_id                scenario              unit variable                                     \n",
       "CICERO-SCM-PY ssp245-plus-0-percent World  13555_old_NR_rounded  ssp245-plus-0-percent ZJ   Heat Content|Ocean               -1.599356   \n",
       "                                                                                       K    Surface Air Temperature Change   -0.013860   \n",
       "                                           13555_old_NR_improved ssp245-plus-0-percent ZJ   Heat Content|Ocean               -2.340682   \n",
       "                                                                                       K    Surface Air Temperature Change   -0.020305   \n",
       "                                           13555_old_NR          ssp245-plus-0-percent ZJ   Heat Content|Ocean               -1.716253   \n",
       "\n",
       "time                                                                                                                        1901-01-01  \\\n",
       "climate_model model                 region run_id                scenario              unit variable                                     \n",
       "CICERO-SCM-PY ssp245-plus-0-percent World  13555_old_NR_rounded  ssp245-plus-0-percent ZJ   Heat Content|Ocean               -4.281792   \n",
       "                                                                                       K    Surface Air Temperature Change   -0.033694   \n",
       "                                           13555_old_NR_improved ssp245-plus-0-percent ZJ   Heat Content|Ocean               -6.317204   \n",
       "                                                                                       K    Surface Air Temperature Change   -0.049749   \n",
       "                                           13555_old_NR          ssp245-plus-0-percent ZJ   Heat Content|Ocean               -4.604001   \n",
       "\n",
       "time                                                                                                                        1902-01-01  \\\n",
       "climate_model model                 region run_id                scenario              unit variable                                     \n",
       "CICERO-SCM-PY ssp245-plus-0-percent World  13555_old_NR_rounded  ssp245-plus-0-percent ZJ   Heat Content|Ocean               -6.631966   \n",
       "                                                                                       K    Surface Air Temperature Change   -0.041915   \n",
       "                                           13555_old_NR_improved ssp245-plus-0-percent ZJ   Heat Content|Ocean               -9.891925   \n",
       "                                                                                       K    Surface Air Temperature Change   -0.062778   \n",
       "                                           13555_old_NR          ssp245-plus-0-percent ZJ   Heat Content|Ocean               -7.150478   \n",
       "\n",
       "time                                                                                                                        1903-01-01  \\\n",
       "climate_model model                 region run_id                scenario              unit variable                                     \n",
       "CICERO-SCM-PY ssp245-plus-0-percent World  13555_old_NR_rounded  ssp245-plus-0-percent ZJ   Heat Content|Ocean               -8.751918   \n",
       "                                                                                       K    Surface Air Temperature Change   -0.047794   \n",
       "                                           13555_old_NR_improved ssp245-plus-0-percent ZJ   Heat Content|Ocean              -13.226613   \n",
       "                                                                                       K    Surface Air Temperature Change   -0.072834   \n",
       "                                           13555_old_NR          ssp245-plus-0-percent ZJ   Heat Content|Ocean               -9.467011   \n",
       "\n",
       "time                                                                                                                        1904-01-01  \\\n",
       "climate_model model                 region run_id                scenario              unit variable                                     \n",
       "CICERO-SCM-PY ssp245-plus-0-percent World  13555_old_NR_rounded  ssp245-plus-0-percent ZJ   Heat Content|Ocean              -10.661286   \n",
       "                                                                                       K    Surface Air Temperature Change   -0.052142   \n",
       "                                           13555_old_NR_improved ssp245-plus-0-percent ZJ   Heat Content|Ocean              -16.337377   \n",
       "                                                                                       K    Surface Air Temperature Change   -0.080934   \n",
       "                                           13555_old_NR          ssp245-plus-0-percent ZJ   Heat Content|Ocean              -11.572858   \n",
       "\n",
       "time                                                                                                                        1905-01-01  \\\n",
       "climate_model model                 region run_id                scenario              unit variable                                     \n",
       "CICERO-SCM-PY ssp245-plus-0-percent World  13555_old_NR_rounded  ssp245-plus-0-percent ZJ   Heat Content|Ocean              -12.387768   \n",
       "                                                                                       K    Surface Air Temperature Change   -0.055346   \n",
       "                                           13555_old_NR_improved ssp245-plus-0-percent ZJ   Heat Content|Ocean              -19.261007   \n",
       "                                                                                       K    Surface Air Temperature Change   -0.087539   \n",
       "                                           13555_old_NR          ssp245-plus-0-percent ZJ   Heat Content|Ocean              -13.497244   \n",
       "\n",
       "time                                                                                                                        1906-01-01  \\\n",
       "climate_model model                 region run_id                scenario              unit variable                                     \n",
       "CICERO-SCM-PY ssp245-plus-0-percent World  13555_old_NR_rounded  ssp245-plus-0-percent ZJ   Heat Content|Ocean              -13.969650   \n",
       "                                                                                       K    Surface Air Temperature Change   -0.058010   \n",
       "                                           13555_old_NR_improved ssp245-plus-0-percent ZJ   Heat Content|Ocean              -22.061527   \n",
       "                                                                                       K    Surface Air Temperature Change   -0.093679   \n",
       "                                           13555_old_NR          ssp245-plus-0-percent ZJ   Heat Content|Ocean              -15.282436   \n",
       "\n",
       "time                                                                                                                        1907-01-01  \\\n",
       "climate_model model                 region run_id                scenario              unit variable                                     \n",
       "CICERO-SCM-PY ssp245-plus-0-percent World  13555_old_NR_rounded  ssp245-plus-0-percent ZJ   Heat Content|Ocean              -15.455266   \n",
       "                                                                                       K    Surface Air Temperature Change   -0.060406   \n",
       "                                           13555_old_NR_improved ssp245-plus-0-percent ZJ   Heat Content|Ocean              -24.834662   \n",
       "                                                                                       K    Surface Air Temperature Change   -0.099885   \n",
       "                                           13555_old_NR          ssp245-plus-0-percent ZJ   Heat Content|Ocean              -16.984287   \n",
       "\n",
       "time                                                                                                                        1908-01-01  \\\n",
       "climate_model model                 region run_id                scenario              unit variable                                     \n",
       "CICERO-SCM-PY ssp245-plus-0-percent World  13555_old_NR_rounded  ssp245-plus-0-percent ZJ   Heat Content|Ocean              -16.747101   \n",
       "                                                                                       K    Surface Air Temperature Change   -0.061653   \n",
       "                                           13555_old_NR_improved ssp245-plus-0-percent ZJ   Heat Content|Ocean              -27.381023   \n",
       "                                                                                       K    Surface Air Temperature Change   -0.104323   \n",
       "                                           13555_old_NR          ssp245-plus-0-percent ZJ   Heat Content|Ocean              -18.488860   \n",
       "\n",
       "time                                                                                                                        1909-01-01  \\\n",
       "climate_model model                 region run_id                scenario              unit variable                                     \n",
       "CICERO-SCM-PY ssp245-plus-0-percent World  13555_old_NR_rounded  ssp245-plus-0-percent ZJ   Heat Content|Ocean              -17.857705   \n",
       "                                                                                       K    Surface Air Temperature Change   -0.061898   \n",
       "                                           13555_old_NR_improved ssp245-plus-0-percent ZJ   Heat Content|Ocean              -29.700814   \n",
       "                                                                                       K    Surface Air Temperature Change   -0.107051   \n",
       "                                           13555_old_NR          ssp245-plus-0-percent ZJ   Heat Content|Ocean              -19.806501   \n",
       "\n",
       "time                                                                                                                        ...  \\\n",
       "climate_model model                 region run_id                scenario              unit variable                        ...   \n",
       "CICERO-SCM-PY ssp245-plus-0-percent World  13555_old_NR_rounded  ssp245-plus-0-percent ZJ   Heat Content|Ocean              ...   \n",
       "                                                                                       K    Surface Air Temperature Change  ...   \n",
       "                                           13555_old_NR_improved ssp245-plus-0-percent ZJ   Heat Content|Ocean              ...   \n",
       "                                                                                       K    Surface Air Temperature Change  ...   \n",
       "                                           13555_old_NR          ssp245-plus-0-percent ZJ   Heat Content|Ocean              ...   \n",
       "\n",
       "time                                                                                                                        2041-01-01  \\\n",
       "climate_model model                 region run_id                scenario              unit variable                                     \n",
       "CICERO-SCM-PY ssp245-plus-0-percent World  13555_old_NR_rounded  ssp245-plus-0-percent ZJ   Heat Content|Ocean              838.524889   \n",
       "                                                                                       K    Surface Air Temperature Change    1.511696   \n",
       "                                           13555_old_NR_improved ssp245-plus-0-percent ZJ   Heat Content|Ocean              638.214819   \n",
       "                                                                                       K    Surface Air Temperature Change    1.297444   \n",
       "                                           13555_old_NR          ssp245-plus-0-percent ZJ   Heat Content|Ocean              796.805158   \n",
       "\n",
       "time                                                                                                                        2042-01-01  \\\n",
       "climate_model model                 region run_id                scenario              unit variable                                     \n",
       "CICERO-SCM-PY ssp245-plus-0-percent World  13555_old_NR_rounded  ssp245-plus-0-percent ZJ   Heat Content|Ocean              850.981463   \n",
       "                                                                                       K    Surface Air Temperature Change    1.521541   \n",
       "                                           13555_old_NR_improved ssp245-plus-0-percent ZJ   Heat Content|Ocean              650.905546   \n",
       "                                                                                       K    Surface Air Temperature Change    1.309758   \n",
       "                                           13555_old_NR          ssp245-plus-0-percent ZJ   Heat Content|Ocean              809.213557   \n",
       "\n",
       "time                                                                                                                        2043-01-01  \\\n",
       "climate_model model                 region run_id                scenario              unit variable                                     \n",
       "CICERO-SCM-PY ssp245-plus-0-percent World  13555_old_NR_rounded  ssp245-plus-0-percent ZJ   Heat Content|Ocean              863.276908   \n",
       "                                                                                       K    Surface Air Temperature Change    1.530892   \n",
       "                                           13555_old_NR_improved ssp245-plus-0-percent ZJ   Heat Content|Ocean              663.467891   \n",
       "                                                                                       K    Surface Air Temperature Change    1.321618   \n",
       "                                           13555_old_NR          ssp245-plus-0-percent ZJ   Heat Content|Ocean              821.467621   \n",
       "\n",
       "time                                                                                                                        2044-01-01  \\\n",
       "climate_model model                 region run_id                scenario              unit variable                                     \n",
       "CICERO-SCM-PY ssp245-plus-0-percent World  13555_old_NR_rounded  ssp245-plus-0-percent ZJ   Heat Content|Ocean              875.401991   \n",
       "                                                                                       K    Surface Air Temperature Change    1.539713   \n",
       "                                           13555_old_NR_improved ssp245-plus-0-percent ZJ   Heat Content|Ocean              675.891979   \n",
       "                                                                                       K    Surface Air Temperature Change    1.332984   \n",
       "                                           13555_old_NR          ssp245-plus-0-percent ZJ   Heat Content|Ocean              833.558119   \n",
       "\n",
       "time                                                                                                                        2045-01-01  \\\n",
       "climate_model model                 region run_id                scenario              unit variable                                     \n",
       "CICERO-SCM-PY ssp245-plus-0-percent World  13555_old_NR_rounded  ssp245-plus-0-percent ZJ   Heat Content|Ocean              887.349330   \n",
       "                                                                                       K    Surface Air Temperature Change    1.547989   \n",
       "                                           13555_old_NR_improved ssp245-plus-0-percent ZJ   Heat Content|Ocean              688.169853   \n",
       "                                                                                       K    Surface Air Temperature Change    1.343836   \n",
       "                                           13555_old_NR          ssp245-plus-0-percent ZJ   Heat Content|Ocean              845.477664   \n",
       "\n",
       "time                                                                                                                        2046-01-01  \\\n",
       "climate_model model                 region run_id                scenario              unit variable                                     \n",
       "CICERO-SCM-PY ssp245-plus-0-percent World  13555_old_NR_rounded  ssp245-plus-0-percent ZJ   Heat Content|Ocean              899.113013   \n",
       "                                                                                       K    Surface Air Temperature Change    1.555716   \n",
       "                                           13555_old_NR_improved ssp245-plus-0-percent ZJ   Heat Content|Ocean              700.295075   \n",
       "                                                                                       K    Surface Air Temperature Change    1.354170   \n",
       "                                           13555_old_NR          ssp245-plus-0-percent ZJ   Heat Content|Ocean              857.220329   \n",
       "\n",
       "time                                                                                                                        2047-01-01  \\\n",
       "climate_model model                 region run_id                scenario              unit variable                                     \n",
       "CICERO-SCM-PY ssp245-plus-0-percent World  13555_old_NR_rounded  ssp245-plus-0-percent ZJ   Heat Content|Ocean              910.688309   \n",
       "                                                                                       K    Surface Air Temperature Change    1.562899   \n",
       "                                           13555_old_NR_improved ssp245-plus-0-percent ZJ   Heat Content|Ocean              712.262418   \n",
       "                                                                                       K    Surface Air Temperature Change    1.363988   \n",
       "                                           13555_old_NR          ssp245-plus-0-percent ZJ   Heat Content|Ocean              868.781361   \n",
       "\n",
       "time                                                                                                                        2048-01-01  \\\n",
       "climate_model model                 region run_id                scenario              unit variable                                     \n",
       "CICERO-SCM-PY ssp245-plus-0-percent World  13555_old_NR_rounded  ssp245-plus-0-percent ZJ   Heat Content|Ocean              922.071462   \n",
       "                                                                                       K    Surface Air Temperature Change    1.569544   \n",
       "                                           13555_old_NR_improved ssp245-plus-0-percent ZJ   Heat Content|Ocean              724.067665   \n",
       "                                                                                       K    Surface Air Temperature Change    1.373294   \n",
       "                                           13555_old_NR          ssp245-plus-0-percent ZJ   Heat Content|Ocean              880.156973   \n",
       "\n",
       "time                                                                                                                        2049-01-01  \\\n",
       "climate_model model                 region run_id                scenario              unit variable                                     \n",
       "CICERO-SCM-PY ssp245-plus-0-percent World  13555_old_NR_rounded  ssp245-plus-0-percent ZJ   Heat Content|Ocean              933.259533   \n",
       "                                                                                       K    Surface Air Temperature Change    1.575662   \n",
       "                                           13555_old_NR_improved ssp245-plus-0-percent ZJ   Heat Content|Ocean              735.707434   \n",
       "                                                                                       K    Surface Air Temperature Change    1.382096   \n",
       "                                           13555_old_NR          ssp245-plus-0-percent ZJ   Heat Content|Ocean              891.344191   \n",
       "\n",
       "time                                                                                                                        2050-01-01  \n",
       "climate_model model                 region run_id                scenario              unit variable                                    \n",
       "CICERO-SCM-PY ssp245-plus-0-percent World  13555_old_NR_rounded  ssp245-plus-0-percent ZJ   Heat Content|Ocean              944.250274  \n",
       "                                                                                       K    Surface Air Temperature Change    1.581262  \n",
       "                                           13555_old_NR_improved ssp245-plus-0-percent ZJ   Heat Content|Ocean              747.179059  \n",
       "                                                                                       K    Surface Air Temperature Change    1.390405  \n",
       "                                           13555_old_NR          ssp245-plus-0-percent ZJ   Heat Content|Ocean              902.340725  \n",
       "\n",
       "[5 rows x 151 columns]"
      ]
     },
     "execution_count": 9,
     "metadata": {},
     "output_type": "execute_result"
    }
   ],
   "source": [
    "results.head()"
   ]
  },
  {
   "cell_type": "markdown",
   "id": "2572d4e8",
   "metadata": {},
   "source": [
    "Plot some plume plots, showing the range of temperature for each scenario (looking at percentiles of the parameter response distribution)"
   ]
  },
  {
   "cell_type": "code",
   "execution_count": 10,
   "id": "5d8079fc",
   "metadata": {},
   "outputs": [],
   "source": [
    "\n",
    "plot_kwargs = dict(\n",
    "    quantiles_plumes=[((0.05, 0.95), 0.5), ((0.5,), 1.0)],\n",
    "    quantile_over=\"run_id\",\n",
    "    hue_var=\"scenario\",\n",
    "    style_var=\"model\",\n",
    "    style_label=\"IAM\",\n",
    "    time_axis=\"year\",\n",
    ")\n"
   ]
  },
  {
   "cell_type": "markdown",
   "id": "742035a6",
   "metadata": {},
   "source": [
    "and plot!"
   ]
  },
  {
   "cell_type": "code",
   "execution_count": 11,
   "id": "a2c96cf5",
   "metadata": {},
   "outputs": [
    {
     "data": {
      "text/plain": [
       "<matplotlib.lines.Line2D at 0x7efc0e545ac8>"
      ]
     },
     "execution_count": 11,
     "metadata": {},
     "output_type": "execute_result"
    },
    {
     "data": {
      "image/png": "[encoded data removed]",
      "text/plain": [
       "<Figure size 1200x700 with 1 Axes>"
      ]
     },
     "metadata": {},
     "output_type": "display_data"
    }
   ],
   "source": [
    "\n",
    "# NBVAL_IGNORE_OUTPUT\n",
    "ax = plt.figure(figsize=(12, 7)).add_subplot(111)\n",
    "results.filter(variable=\"Surface Air Temperature Change\").plumeplot(\n",
    "    ax=ax, **plot_kwargs\n",
    ")\n",
    "ax.axhline(1.1)\n",
    "ax.axvline(2018)\n"
   ]
  },
  {
   "cell_type": "code",
   "execution_count": null,
   "id": "eed37970",
   "metadata": {},
   "outputs": [],
   "source": []
  }
 ],
 "metadata": {
  "kernelspec": {
   "display_name": "Python 3 (ipykernel)",
   "language": "python",
   "name": "python3"
  },
  "language_info": {
   "codemirror_mode": {
    "name": "ipython",
    "version": 3
   },
   "file_extension": ".py",
   "mimetype": "text/x-python",
   "name": "python",
   "nbconvert_exporter": "python",
   "pygments_lexer": "ipython3",
   "version": "3.7.0"
  }
 },
 "nbformat": 4,
 "nbformat_minor": 5
}
