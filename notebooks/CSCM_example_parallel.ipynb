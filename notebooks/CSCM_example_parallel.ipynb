{
 "cells": [
  {
   "cell_type": "markdown",
   "id": "7a47dfc7",
   "metadata": {},
   "source": [
    "# CICERO SCM notebook parallel example"
   ]
  },
  {
   "cell_type": "markdown",
   "id": "1a721d37",
   "metadata": {},
   "source": [
    "Import some stuff"
   ]
  },
  {
   "cell_type": "code",
   "execution_count": 1,
   "id": "34c63512",
   "metadata": {},
   "outputs": [],
   "source": [
    "import sys\n",
    "import re\n",
    "import os\n",
    "import numpy as np\n",
    "import shutil\n",
    "import matplotlib.pyplot as plt\n",
    "import pandas as pd\n",
    "import pandas.testing as pdt\n",
    "import warnings\n",
    "try:\n",
    "    from pandas.core.common import SettingWithCopyWarning\n",
    "except:\n",
    "    from pandas.errors import SettingWithCopyWarning\n",
    "warnings.simplefilter(action=\"ignore\", category=SettingWithCopyWarning)"
   ]
  },
  {
   "cell_type": "markdown",
   "id": "b0a9eeb6",
   "metadata": {},
   "source": [
    "Import the model"
   ]
  },
  {
   "cell_type": "code",
   "execution_count": 2,
   "id": "dc85854b",
   "metadata": {},
   "outputs": [],
   "source": [
    "sys.path.insert(0,os.path.join(os.getcwd(), '../', 'src'))\n",
    "from ciceroscm import CICEROSCM"
   ]
  },
  {
   "cell_type": "markdown",
   "id": "319a02eb",
   "metadata": {},
   "source": [
    "Define some input handling functions to give us example inputs"
   ]
  },
  {
   "cell_type": "code",
   "execution_count": 3,
   "id": "a7401d42",
   "metadata": {},
   "outputs": [
    {
     "data": {
      "application/javascript": [
       "if (typeof IPython !== 'undefined') { IPython.OutputArea.prototype._should_scroll = function(lines){ return false; }}"
      ],
      "text/plain": [
       "<IPython.core.display.Javascript object>"
      ]
     },
     "metadata": {},
     "output_type": "display_data"
    },
    {
     "name": "stderr",
     "output_type": "stream",
     "text": [
      "/home/masan/gitrepos/ciceroscm/venv/lib/python3.7/site-packages/scmdata/database/_database.py:9: TqdmExperimentalWarning: Using `tqdm.autonotebook.tqdm` in notebook mode. Use `tqdm.tqdm` instead to force console mode (e.g. in jupyter console)\n",
      "  import tqdm.autonotebook as tqdman\n"
     ]
    }
   ],
   "source": [
    "# NBVAL_IGNORE_OUTPUT\n",
    "#from ciceroscm.input_handler import read_inputfile,read_components,read_natural_emissions\n",
    "from ciceroscm.parallel.cscmparwrapper import run_ciceroscm_parallel\n",
    "import ciceroscm.input_handler as input_handler"
   ]
  },
  {
   "cell_type": "markdown",
   "id": "8d3cf3c3",
   "metadata": {},
   "source": [
    "Define data directory"
   ]
  },
  {
   "cell_type": "code",
   "execution_count": 4,
   "id": "6486bfe1",
   "metadata": {},
   "outputs": [],
   "source": [
    "test_data_dir = os.path.join(os.getcwd(), '../', 'tests', 'test-data')"
   ]
  },
  {
   "cell_type": "markdown",
   "id": "9341aff2",
   "metadata": {},
   "source": [
    "Define emissions data"
   ]
  },
  {
   "cell_type": "code",
   "execution_count": 5,
   "id": "92fb3d63",
   "metadata": {},
   "outputs": [],
   "source": [
    "\n",
    "gaspam_data = input_handler.read_components(\n",
    "    os.path.join(test_data_dir, \"gases_v1RCMIP.txt\")\n",
    ")\n",
    "conc_data = input_handler.read_inputfile(\n",
    "    os.path.join(test_data_dir, \"ssp245_conc_RCMIP.txt\"), True, 1750, 2100\n",
    ")\n",
    "ih = input_handler.InputHandler({\"nyend\": 2050, \"nystart\": 1900, \"emstart\": 2015})\n",
    "em_data = ih.read_emissions(os.path.join(test_data_dir, \"ssp245_em_RCMIP.txt\"))\n",
    "nat_ch4_data = input_handler.read_natural_emissions(\n",
    "    os.path.join(test_data_dir, \"natemis_ch4.txt\"), \"CH4\"\n",
    ")\n",
    "nat_n2o_data = input_handler.read_natural_emissions(\n",
    "    os.path.join(test_data_dir, \"natemis_n2o.txt\"), \"N2O\"\n",
    ")"
   ]
  },
  {
   "cell_type": "markdown",
   "id": "0e9f9cf5",
   "metadata": {},
   "source": [
    "Make a list of dictionaries to define the parameter ensemble - keys should be pamset_udm, pamset_emiconc and Index..."
   ]
  },
  {
   "cell_type": "code",
   "execution_count": 6,
   "id": "7cd3d377",
   "metadata": {},
   "outputs": [],
   "source": [
    "   cfgs = [\n",
    "        {\n",
    "            \"pamset_udm\": {\n",
    "                \"rlamdo\": 15.1,\n",
    "                \"akapa\": 0.657,\n",
    "                \"cpi\": 0.208,\n",
    "                \"W\": 2.2,\n",
    "                \"beto\": 6.9,\n",
    "                \"lambda\": 0.606,\n",
    "                \"mixed\": 107.0,\n",
    "            },\n",
    "            \"pamset_emiconc\": {\n",
    "                \"qbmb\": 0.0,\n",
    "                \"qo3\": 0.5,\n",
    "                \"qdirso2\": -0.3701,\n",
    "                \"qindso2\": -0.4163,\n",
    "                \"qbc\": 0.163,\n",
    "                \"qoc\": -0.084,\n",
    "                \"qh2o_ch4\": 0.171,\n",
    "            },\n",
    "            \"Index\": \"13555_old_NR_rounded\",\n",
    "        },\n",
    "        {\n",
    "            \"pamset_udm\": {\n",
    "                \"rlamdo\": 15.08357,\n",
    "                \"akapa\": 0.6568376339229769,\n",
    "                \"cpi\": 0.2077266,\n",
    "                \"W\": 2.205919,\n",
    "                \"beto\": 6.89822,\n",
    "                \"lambda\": 0.6062529,\n",
    "                \"mixed\": 107.2422,\n",
    "            },\n",
    "            \"pamset_emiconc\": {\n",
    "                \"qbmb\": 0.0,\n",
    "                \"qo3\": 0.5,\n",
    "                \"qdirso2\": -0.3562,\n",
    "                \"qindso2\": -0.96609,\n",
    "                \"qbc\": 0.1566,\n",
    "                \"qoc\": -0.0806,\n",
    "            },\n",
    "            \"Index\": \"13555_old_NR_improved\",\n",
    "        },\n",
    "        {\n",
    "            \"pamset_udm\": {\n",
    "                \"rlamdo\": 15.08357,\n",
    "                \"akapa\": 0.6568376339229769,\n",
    "                \"cpi\": 0.2077266,\n",
    "                \"W\": 2.205919,\n",
    "                \"beto\": 6.89822,\n",
    "                \"lambda\": 0.6062529,\n",
    "                \"mixed\": 107.2422,\n",
    "            },\n",
    "            \"pamset_emiconc\": {\n",
    "                \"qbmb\": 0.0,\n",
    "                \"qo3\": 0.5,\n",
    "                \"qdirso2\": -0.3701323367808028 / 1.5,\n",
    "                \"qindso2\": -0.4162980444986502 * 1.5,\n",
    "                \"qbc\": 0.162692563111132,\n",
    "                \"qoc\": -0.08377713183167902,\n",
    "            },\n",
    "            \"Index\": \"13555_old_NR\",\n",
    "        },\n",
    "        {\n",
    "            \"pamset_udm\": {\n",
    "                \"rlamdo\": 5.269455,\n",
    "                \"akapa\": 0.40099950002568496,\n",
    "                \"cpi\": 0.2054687,\n",
    "                \"W\": 1.95183,\n",
    "                \"beto\": 3.278654,\n",
    "                \"lambda\": 0.7308369,\n",
    "                \"mixed\": 115.1219,\n",
    "            },\n",
    "            \"pamset_emiconc\": {\n",
    "                \"qbmb\": 0.0,\n",
    "                \"qo3\": 0.3,\n",
    "                \"qdirso2\": -0.32211222516087934,\n",
    "                \"qindso2\": -0.3622885009449893,\n",
    "                \"qbc\": 0.1415852070009452,\n",
    "                \"qoc\": -0.07290808089507649,\n",
    "            },\n",
    "            \"Index\": \"10496_old_NR\",\n",
    "        },\n",
    "        {\n",
    "            \"pamset_udm\": {\n",
    "                \"rlamdo\": 5.269455,\n",
    "                \"akapa\": 0.40099950002568496,\n",
    "                \"cpi\": 0.2054687,\n",
    "                \"W\": 1.95183,\n",
    "                \"beto\": 3.278654,\n",
    "                \"lambda\": 0.7308369,\n",
    "                \"mixed\": 115.1219,\n",
    "            },\n",
    "            \"pamset_emiconc\": {\n",
    "                \"qbmb\": 0.0,\n",
    "                \"qo3\": 0.3,\n",
    "                \"qdirso2\": -0.32211222516087934,\n",
    "                \"qindso2\": -0.3622885009449893,\n",
    "                \"qbc\": 0.1415852070009452,\n",
    "                \"qoc\": -0.07290808089507649,\n",
    "            },\n",
    "            \"Index\": \"10974_old_NR\",\n",
    "        },\n",
    "        {\n",
    "            \"pamset_udm\": {\n",
    "                \"rlamdo\": 23.71469,\n",
    "                \"akapa\": 0.5486541129586187,\n",
    "                \"cpi\": 0.4059296,\n",
    "                \"W\": 2.090927,\n",
    "                \"beto\": 4.426507,\n",
    "                \"lambda\": 0.6345007,\n",
    "                \"mixed\": 97.25478,\n",
    "            },\n",
    "            \"pamset_emiconc\": {\n",
    "                \"qbmb\": 0.0,\n",
    "                \"qo3\": 0.3,\n",
    "                \"qdirso2\": -0.4031202924043847,\n",
    "                \"qindso2\": -0.453400507735301,\n",
    "                \"qbc\": 0.17719249872571508,\n",
    "                \"qoc\": -0.09124374858602939,\n",
    "            },\n",
    "            \"Index\": \"Unknown_old_NR\",\n",
    "        },\n",
    "        {\n",
    "            \"pamset_udm\": {\n",
    "                \"rlamdo\": 23.13088,\n",
    "                \"akapa\": 0.6588532950589802,\n",
    "                \"cpi\": 0.1690946,\n",
    "                \"W\": 2.228695,\n",
    "                \"beto\": 2.623041,\n",
    "                \"lambda\": 0.5402487,\n",
    "                \"mixed\": 99.86714,\n",
    "            },\n",
    "            \"pamset_emiconc\": {\n",
    "                \"qbmb\": 0.0,\n",
    "                \"qo3\": 0.3,\n",
    "                \"qdirso2\": -0.882827534329248,\n",
    "                \"qindso2\": -0.9929404692583796,\n",
    "                \"qbc\": 0.3880489761967636,\n",
    "                \"qoc\": -0.1998224726091362,\n",
    "            },\n",
    "            \"Index\": \"28925_old_NR\",\n",
    "        },\n",
    "    ]"
   ]
  },
  {
   "cell_type": "markdown",
   "id": "1dc62d59",
   "metadata": {},
   "source": [
    "Define scenarios as a list of dictionaries."
   ]
  },
  {
   "cell_type": "code",
   "execution_count": 7,
   "id": "6e488be2",
   "metadata": {},
   "outputs": [],
   "source": [
    "scenarios=[]\n",
    "for i in range(3):\n",
    "    em_data_here = em_data.mul((1 + i / 5))\n",
    "    new_scen = {\n",
    "        \"gaspam_data\": gaspam_data,\n",
    "        \"nyend\": 2050,\n",
    "        \"nystart\": 1900,\n",
    "        \"emstart\": 2015,\n",
    "        \"concentrations_data\": conc_data,\n",
    "        \"nat_ch4_data\": nat_ch4_data,\n",
    "        \"nat_n2o_data\": nat_n2o_data,\n",
    "        \"emissions_data\": em_data_here,\n",
    "        \"udir\": test_data_dir,\n",
    "        \"idtm\":24,\n",
    "        \"scenname\": \"ssp245-plus-%d-percent\" % np.multiply(i,20.),\n",
    "    }\n",
    "    scenarios.append(new_scen)\n",
    "    \n",
    "    "
   ]
  },
  {
   "cell_type": "markdown",
   "id": "51b5ee83",
   "metadata": {},
   "source": [
    "Parallel processor loops over all scenarios and configuration lists"
   ]
  },
  {
   "cell_type": "code",
   "execution_count": 8,
   "id": "8a638733",
   "metadata": {},
   "outputs": [
    {
     "name": "stderr",
     "output_type": "stream",
     "text": [
      "Parameter udir is not used. Please check if you have a typo\n"
     ]
    },
    {
     "data": {
      "application/vnd.jupyter.widget-view+json": {
       "model_id": "403a2a3d1ab349d9af082c8a94fb1bb2",
       "version_major": 2,
       "version_minor": 0
      },
      "text/plain": [
       "Parallel runs:   0%|          | 0.00/6.00 [00:00<?, ?it/s]"
      ]
     },
     "metadata": {},
     "output_type": "display_data"
    },
    {
     "name": "stderr",
     "output_type": "stream",
     "text": [
      "Parameter scenname is not used. Please check if you have a typo\n",
      "Parameter udir is not used. Please check if you have a typo\n",
      "Parameter udir is not used. Please check if you have a typo\n",
      "Parameter udir is not used. Please check if you have a typo\n",
      "Parameter scenname is not used. Please check if you have a typo\n",
      "Parameter scenname is not used. Please check if you have a typo\n",
      "Parameter scenname is not used. Please check if you have a typo\n"
     ]
    },
    {
     "name": "stdout",
     "output_type": "stream",
     "text": [
      "11\n",
      "12\n",
      "113\n",
      "114\n",
      "115\n",
      "22\n",
      "141\n",
      "123\n",
      "142\n"
     ]
    },
    {
     "name": "stderr",
     "output_type": "stream",
     "text": [
      "Parameter threstemp not in pamset. Using default value 7.0\n",
      "Parameter foan not in pamset. Using default value 0.61\n",
      "Parameter foas not in pamset. Using default value 0.81\n",
      "Parameter ebbeta not in pamset. Using default value 0.0\n",
      "Parameter fnso not in pamset. Using default value 0.7531\n",
      "Parameter lm not in pamset. Using default value 40\n",
      "Parameter ldtime not in pamset. Using default value 12\n",
      "Parameter ref_yr not in pamset. Using default value 2010\n"
     ]
    },
    {
     "name": "stdout",
     "output_type": "stream",
     "text": [
      "11"
     ]
    },
    {
     "name": "stderr",
     "output_type": "stream",
     "text": [
      "Parameter beta_f not in pamset. Using default value 0.287\n"
     ]
    },
    {
     "name": "stdout",
     "output_type": "stream",
     "text": [
      "\n",
      "1211311\n",
      "\n",
      "\n",
      "1211411\n",
      "\n",
      "\n",
      "11312115\n",
      "\n",
      "\n",
      "11411322\n",
      "\n",
      "\n",
      "115114141\n",
      "\n",
      "\n",
      "22\n",
      "123115141\n",
      "\n",
      "\n",
      "14222123\n",
      "\n",
      "\n",
      "141142\n",
      "\n",
      "123"
     ]
    },
    {
     "name": "stderr",
     "output_type": "stream",
     "text": [
      "Parameter threstemp not in pamset. Using default value 7.0\n"
     ]
    },
    {
     "name": "stdout",
     "output_type": "stream",
     "text": [
      "\n"
     ]
    },
    {
     "name": "stderr",
     "output_type": "stream",
     "text": [
      "Parameter foan not in pamset. Using default value 0.61\n",
      "Parameter threstemp not in pamset. Using default value 7.0\n"
     ]
    },
    {
     "name": "stdout",
     "output_type": "stream",
     "text": [
      "142"
     ]
    },
    {
     "name": "stderr",
     "output_type": "stream",
     "text": [
      "Parameter foas not in pamset. Using default value 0.81\n",
      "Parameter foan not in pamset. Using default value 0.61\n"
     ]
    },
    {
     "name": "stdout",
     "output_type": "stream",
     "text": [
      "\n"
     ]
    },
    {
     "name": "stderr",
     "output_type": "stream",
     "text": [
      "Parameter ebbeta not in pamset. Using default value 0.0\n",
      "Parameter foas not in pamset. Using default value 0.81\n",
      "Parameter fnso not in pamset. Using default value 0.7531\n",
      "Parameter ebbeta not in pamset. Using default value 0.0\n",
      "Parameter lm not in pamset. Using default value 40\n",
      "Parameter ldtime not in pamset. Using default value 12\n",
      "Parameter fnso not in pamset. Using default value 0.7531\n",
      "Parameter threstemp not in pamset. Using default value 7.0\n",
      "Parameter lm not in pamset. Using default value 40\n",
      "Parameter foan not in pamset. Using default value 0.61\n",
      "Parameter qh2o_ch4 not in pamset. Using default value 0.091915\n",
      "Parameter ldtime not in pamset. Using default value 12\n",
      "Parameter foas not in pamset. Using default value 0.81\n",
      "Parameter ref_yr not in pamset. Using default value 2010\n",
      "Parameter ebbeta not in pamset. Using default value 0.0\n",
      "Parameter beta_f not in pamset. Using default value 0.287\n",
      "Parameter qh2o_ch4 not in pamset. Using default value 0.091915\n",
      "Parameter fnso not in pamset. Using default value 0.7531\n",
      "Parameter ref_yr not in pamset. Using default value 2010\n",
      "Parameter lm not in pamset. Using default value 40\n",
      "Parameter beta_f not in pamset. Using default value 0.287\n",
      "Parameter ldtime not in pamset. Using default value 12\n",
      "Parameter ref_yr not in pamset. Using default value 2010\n",
      "Parameter beta_f not in pamset. Using default value 0.287\n",
      "Parameter threstemp not in pamset. Using default value 7.0\n",
      "Parameter foan not in pamset. Using default value 0.61\n",
      "Parameter foas not in pamset. Using default value 0.81\n",
      "Parameter ebbeta not in pamset. Using default value 0.0\n",
      "Parameter fnso not in pamset. Using default value 0.7531\n",
      "Parameter lm not in pamset. Using default value 40\n",
      "Parameter ldtime not in pamset. Using default value 12\n",
      "Parameter qh2o_ch4 not in pamset. Using default value 0.091915\n",
      "Parameter ref_yr not in pamset. Using default value 2010\n",
      "Parameter beta_f not in pamset. Using default value 0.287\n",
      "Parameter threstemp not in pamset. Using default value 7.0\n",
      "Parameter foan not in pamset. Using default value 0.61\n",
      "Parameter foas not in pamset. Using default value 0.81\n",
      "Parameter ebbeta not in pamset. Using default value 0.0\n",
      "Parameter fnso not in pamset. Using default value 0.7531\n",
      "Parameter lm not in pamset. Using default value 40\n",
      "Parameter ldtime not in pamset. Using default value 12\n",
      "Parameter qh2o_ch4 not in pamset. Using default value 0.091915\n",
      "Parameter ref_yr not in pamset. Using default value 2010\n",
      "Parameter beta_f not in pamset. Using default value 0.287\n",
      "Parameter threstemp not in pamset. Using default value 7.0\n",
      "Parameter foan not in pamset. Using default value 0.61\n",
      "Parameter foas not in pamset. Using default value 0.81\n",
      "Parameter ebbeta not in pamset. Using default value 0.0\n",
      "Parameter fnso not in pamset. Using default value 0.7531\n",
      "Parameter lm not in pamset. Using default value 40\n",
      "Parameter ldtime not in pamset. Using default value 12\n",
      "Parameter qh2o_ch4 not in pamset. Using default value 0.091915\n",
      "Parameter ref_yr not in pamset. Using default value 2010\n",
      "Parameter beta_f not in pamset. Using default value 0.287\n",
      "Parameter threstemp not in pamset. Using default value 7.0\n",
      "Parameter foan not in pamset. Using default value 0.61\n",
      "Parameter foas not in pamset. Using default value 0.81\n",
      "Parameter ebbeta not in pamset. Using default value 0.0\n",
      "Parameter fnso not in pamset. Using default value 0.7531\n",
      "Parameter lm not in pamset. Using default value 40\n",
      "Parameter ldtime not in pamset. Using default value 12\n",
      "Parameter qh2o_ch4 not in pamset. Using default value 0.091915\n",
      "Parameter ref_yr not in pamset. Using default value 2010\n",
      "Parameter beta_f not in pamset. Using default value 0.287\n",
      "Parameter threstemp not in pamset. Using default value 7.0\n",
      "Parameter foan not in pamset. Using default value 0.61\n",
      "Parameter foas not in pamset. Using default value 0.81\n",
      "Parameter ebbeta not in pamset. Using default value 0.0\n",
      "Parameter fnso not in pamset. Using default value 0.7531\n",
      "Parameter lm not in pamset. Using default value 40\n",
      "Parameter ldtime not in pamset. Using default value 12\n",
      "Parameter qh2o_ch4 not in pamset. Using default value 0.091915\n",
      "Parameter ref_yr not in pamset. Using default value 2010\n",
      "Parameter beta_f not in pamset. Using default value 0.287\n",
      "Parameter udir is not used. Please check if you have a typo\n",
      "Parameter scenname is not used. Please check if you have a typo\n",
      "Parameter udir is not used. Please check if you have a typo\n",
      "Parameter scenname is not used. Please check if you have a typo\n"
     ]
    },
    {
     "name": "stdout",
     "output_type": "stream",
     "text": [
      "11\n",
      "12\n",
      "113\n",
      "114\n"
     ]
    },
    {
     "name": "stderr",
     "output_type": "stream",
     "text": [
      "Parameter threstemp not in pamset. Using default value 7.0\n"
     ]
    },
    {
     "name": "stdout",
     "output_type": "stream",
     "text": [
      "115"
     ]
    },
    {
     "name": "stderr",
     "output_type": "stream",
     "text": [
      "Parameter foan not in pamset. Using default value 0.61\n"
     ]
    },
    {
     "name": "stdout",
     "output_type": "stream",
     "text": [
      "\n"
     ]
    },
    {
     "name": "stderr",
     "output_type": "stream",
     "text": [
      "Parameter foas not in pamset. Using default value 0.81\n"
     ]
    },
    {
     "name": "stdout",
     "output_type": "stream",
     "text": [
      "22\n"
     ]
    },
    {
     "name": "stderr",
     "output_type": "stream",
     "text": [
      "Parameter ebbeta not in pamset. Using default value 0.0\n"
     ]
    },
    {
     "name": "stdout",
     "output_type": "stream",
     "text": [
      "141"
     ]
    },
    {
     "name": "stderr",
     "output_type": "stream",
     "text": [
      "Parameter fnso not in pamset. Using default value 0.7531\n"
     ]
    },
    {
     "name": "stdout",
     "output_type": "stream",
     "text": [
      "\n"
     ]
    },
    {
     "name": "stderr",
     "output_type": "stream",
     "text": [
      "Parameter lm not in pamset. Using default value 40\n"
     ]
    },
    {
     "name": "stdout",
     "output_type": "stream",
     "text": [
      "123"
     ]
    },
    {
     "name": "stderr",
     "output_type": "stream",
     "text": [
      "Parameter ldtime not in pamset. Using default value 12\n"
     ]
    },
    {
     "name": "stdout",
     "output_type": "stream",
     "text": [
      "\n"
     ]
    },
    {
     "name": "stderr",
     "output_type": "stream",
     "text": [
      "Parameter qh2o_ch4 not in pamset. Using default value 0.091915\n"
     ]
    },
    {
     "name": "stdout",
     "output_type": "stream",
     "text": [
      "14211"
     ]
    },
    {
     "name": "stderr",
     "output_type": "stream",
     "text": [
      "Parameter ref_yr not in pamset. Using default value 2010\n"
     ]
    },
    {
     "name": "stdout",
     "output_type": "stream",
     "text": [
      "\n"
     ]
    },
    {
     "name": "stderr",
     "output_type": "stream",
     "text": [
      "Parameter beta_f not in pamset. Using default value 0.287\n"
     ]
    },
    {
     "name": "stdout",
     "output_type": "stream",
     "text": [
      "\n",
      "12\n"
     ]
    },
    {
     "name": "stderr",
     "output_type": "stream",
     "text": [
      "Parameter threstemp not in pamset. Using default value 7.0\n"
     ]
    },
    {
     "name": "stdout",
     "output_type": "stream",
     "text": [
      "113"
     ]
    },
    {
     "name": "stderr",
     "output_type": "stream",
     "text": [
      "Parameter foan not in pamset. Using default value 0.61\n"
     ]
    },
    {
     "name": "stdout",
     "output_type": "stream",
     "text": [
      "\n"
     ]
    },
    {
     "name": "stderr",
     "output_type": "stream",
     "text": [
      "Parameter foas not in pamset. Using default value 0.81\n"
     ]
    },
    {
     "name": "stdout",
     "output_type": "stream",
     "text": [
      "114"
     ]
    },
    {
     "name": "stderr",
     "output_type": "stream",
     "text": [
      "Parameter ebbeta not in pamset. Using default value 0.0\n"
     ]
    },
    {
     "name": "stdout",
     "output_type": "stream",
     "text": [
      "\n"
     ]
    },
    {
     "name": "stderr",
     "output_type": "stream",
     "text": [
      "Parameter fnso not in pamset. Using default value 0.7531\n"
     ]
    },
    {
     "name": "stdout",
     "output_type": "stream",
     "text": [
      "115"
     ]
    },
    {
     "name": "stderr",
     "output_type": "stream",
     "text": [
      "Parameter lm not in pamset. Using default value 40\n"
     ]
    },
    {
     "name": "stdout",
     "output_type": "stream",
     "text": [
      "\n"
     ]
    },
    {
     "name": "stderr",
     "output_type": "stream",
     "text": [
      "Parameter ldtime not in pamset. Using default value 12\n"
     ]
    },
    {
     "name": "stdout",
     "output_type": "stream",
     "text": [
      "22"
     ]
    },
    {
     "name": "stderr",
     "output_type": "stream",
     "text": [
      "Parameter ref_yr not in pamset. Using default value 2010\n"
     ]
    },
    {
     "name": "stdout",
     "output_type": "stream",
     "text": [
      "\n"
     ]
    },
    {
     "name": "stderr",
     "output_type": "stream",
     "text": [
      "Parameter beta_f not in pamset. Using default value 0.287\n"
     ]
    },
    {
     "name": "stdout",
     "output_type": "stream",
     "text": [
      "141\n",
      "123\n",
      "142\n"
     ]
    },
    {
     "name": "stderr",
     "output_type": "stream",
     "text": [
      "Parameter threstemp not in pamset. Using default value 7.0\n",
      "Parameter foan not in pamset. Using default value 0.61\n",
      "Parameter foas not in pamset. Using default value 0.81\n",
      "Parameter ebbeta not in pamset. Using default value 0.0\n",
      "Parameter fnso not in pamset. Using default value 0.7531\n",
      "Parameter lm not in pamset. Using default value 40\n",
      "Parameter ldtime not in pamset. Using default value 12\n",
      "Parameter qh2o_ch4 not in pamset. Using default value 0.091915\n",
      "Parameter ref_yr not in pamset. Using default value 2010\n",
      "Parameter beta_f not in pamset. Using default value 0.287\n",
      "Parameter threstemp not in pamset. Using default value 7.0\n",
      "Parameter foan not in pamset. Using default value 0.61\n",
      "Parameter foas not in pamset. Using default value 0.81\n",
      "Parameter ebbeta not in pamset. Using default value 0.0\n",
      "Parameter fnso not in pamset. Using default value 0.7531\n",
      "Parameter lm not in pamset. Using default value 40\n",
      "Parameter ldtime not in pamset. Using default value 12\n",
      "Parameter qh2o_ch4 not in pamset. Using default value 0.091915\n",
      "Parameter ref_yr not in pamset. Using default value 2010\n",
      "Parameter beta_f not in pamset. Using default value 0.287\n",
      "Parameter threstemp not in pamset. Using default value 7.0\n",
      "Parameter foan not in pamset. Using default value 0.61\n",
      "Parameter foas not in pamset. Using default value 0.81\n",
      "Parameter ebbeta not in pamset. Using default value 0.0\n",
      "Parameter fnso not in pamset. Using default value 0.7531\n",
      "Parameter lm not in pamset. Using default value 40\n",
      "Parameter ldtime not in pamset. Using default value 12\n",
      "Parameter qh2o_ch4 not in pamset. Using default value 0.091915\n",
      "Parameter ref_yr not in pamset. Using default value 2010\n",
      "Parameter beta_f not in pamset. Using default value 0.287\n",
      "Parameter threstemp not in pamset. Using default value 7.0\n",
      "Parameter foan not in pamset. Using default value 0.61\n",
      "Parameter foas not in pamset. Using default value 0.81\n",
      "Parameter ebbeta not in pamset. Using default value 0.0\n",
      "Parameter fnso not in pamset. Using default value 0.7531\n",
      "Parameter lm not in pamset. Using default value 40\n",
      "Parameter ldtime not in pamset. Using default value 12\n",
      "Parameter qh2o_ch4 not in pamset. Using default value 0.091915\n",
      "Parameter ref_yr not in pamset. Using default value 2010\n",
      "Parameter beta_f not in pamset. Using default value 0.287\n",
      "Parameter threstemp not in pamset. Using default value 7.0\n",
      "Parameter foan not in pamset. Using default value 0.61\n",
      "Parameter foas not in pamset. Using default value 0.81\n",
      "Parameter ebbeta not in pamset. Using default value 0.0\n",
      "Parameter fnso not in pamset. Using default value 0.7531\n",
      "Parameter lm not in pamset. Using default value 40\n",
      "Parameter ldtime not in pamset. Using default value 12\n",
      "Parameter qh2o_ch4 not in pamset. Using default value 0.091915\n",
      "Parameter ref_yr not in pamset. Using default value 2010\n",
      "Parameter beta_f not in pamset. Using default value 0.287\n",
      "Parameter threstemp not in pamset. Using default value 7.0\n",
      "Parameter foan not in pamset. Using default value 0.61\n",
      "Parameter foas not in pamset. Using default value 0.81\n",
      "Parameter ebbeta not in pamset. Using default value 0.0\n",
      "Parameter fnso not in pamset. Using default value 0.7531\n",
      "Parameter lm not in pamset. Using default value 40\n",
      "Parameter ldtime not in pamset. Using default value 12\n",
      "Parameter qh2o_ch4 not in pamset. Using default value 0.091915\n",
      "Parameter ref_yr not in pamset. Using default value 2010\n",
      "Parameter beta_f not in pamset. Using default value 0.287\n",
      "Parameter threstemp not in pamset. Using default value 7.0\n",
      "Parameter foan not in pamset. Using default value 0.61\n",
      "Parameter foas not in pamset. Using default value 0.81\n",
      "Parameter ebbeta not in pamset. Using default value 0.0\n",
      "Parameter fnso not in pamset. Using default value 0.7531\n",
      "Parameter lm not in pamset. Using default value 40\n",
      "Parameter ldtime not in pamset. Using default value 12\n",
      "Parameter qh2o_ch4 not in pamset. Using default value 0.091915\n",
      "Parameter ref_yr not in pamset. Using default value 2010\n",
      "Parameter beta_f not in pamset. Using default value 0.287\n",
      "Parameter threstemp not in pamset. Using default value 7.0\n",
      "Parameter foan not in pamset. Using default value 0.61\n",
      "Parameter foas not in pamset. Using default value 0.81\n",
      "Parameter ebbeta not in pamset. Using default value 0.0\n",
      "Parameter fnso not in pamset. Using default value 0.7531\n",
      "Parameter lm not in pamset. Using default value 40\n",
      "Parameter ldtime not in pamset. Using default value 12\n",
      "Parameter qh2o_ch4 not in pamset. Using default value 0.091915\n",
      "Parameter ref_yr not in pamset. Using default value 2010\n",
      "Parameter beta_f not in pamset. Using default value 0.287\n",
      "Parameter threstemp not in pamset. Using default value 7.0\n",
      "Parameter foan not in pamset. Using default value 0.61\n",
      "Parameter foas not in pamset. Using default value 0.81\n",
      "Parameter ebbeta not in pamset. Using default value 0.0\n",
      "Parameter fnso not in pamset. Using default value 0.7531\n",
      "Parameter lm not in pamset. Using default value 40\n",
      "Parameter ldtime not in pamset. Using default value 12\n",
      "Parameter qh2o_ch4 not in pamset. Using default value 0.091915\n",
      "Parameter ref_yr not in pamset. Using default value 2010\n",
      "Parameter beta_f not in pamset. Using default value 0.287\n",
      "Parameter threstemp not in pamset. Using default value 7.0\n",
      "Parameter foan not in pamset. Using default value 0.61\n",
      "Parameter foas not in pamset. Using default value 0.81\n",
      "Parameter ebbeta not in pamset. Using default value 0.0\n",
      "Parameter fnso not in pamset. Using default value 0.7531\n",
      "Parameter lm not in pamset. Using default value 40\n",
      "Parameter ldtime not in pamset. Using default value 12\n",
      "Parameter qh2o_ch4 not in pamset. Using default value 0.091915\n",
      "Parameter ref_yr not in pamset. Using default value 2010\n",
      "Parameter beta_f not in pamset. Using default value 0.287\n"
     ]
    }
   ],
   "source": [
    "# NBVAL_IGNORE_OUTPUT\n",
    "output_variables = [\"Heat Content|Ocean\", \"Surface Air Temperature Change\"]\n",
    "results = run_ciceroscm_parallel(scenarios, cfgs, output_variables)\n"
   ]
  },
  {
   "cell_type": "markdown",
   "id": "31beb4cb",
   "metadata": {},
   "source": [
    "Look at the output openSCMrunner object"
   ]
  },
  {
   "cell_type": "code",
   "execution_count": 9,
   "id": "9ef93f5b",
   "metadata": {},
   "outputs": [
    {
     "data": {
      "text/html": [
       "<div>\n",
       "<style scoped>\n",
       "    .dataframe tbody tr th:only-of-type {\n",
       "        vertical-align: middle;\n",
       "    }\n",
       "\n",
       "    .dataframe tbody tr th {\n",
       "        vertical-align: top;\n",
       "    }\n",
       "\n",
       "    .dataframe thead th {\n",
       "        text-align: right;\n",
       "    }\n",
       "</style>\n",
       "<table border=\"1\" class=\"dataframe\">\n",
       "  <thead>\n",
       "    <tr style=\"text-align: right;\">\n",
       "      <th></th>\n",
       "      <th></th>\n",
       "      <th></th>\n",
       "      <th></th>\n",
       "      <th></th>\n",
       "      <th></th>\n",
       "      <th>time</th>\n",
       "      <th>1900-01-01</th>\n",
       "      <th>1901-01-01</th>\n",
       "      <th>1902-01-01</th>\n",
       "      <th>1903-01-01</th>\n",
       "      <th>1904-01-01</th>\n",
       "      <th>1905-01-01</th>\n",
       "      <th>1906-01-01</th>\n",
       "      <th>1907-01-01</th>\n",
       "      <th>1908-01-01</th>\n",
       "      <th>1909-01-01</th>\n",
       "      <th>...</th>\n",
       "      <th>2041-01-01</th>\n",
       "      <th>2042-01-01</th>\n",
       "      <th>2043-01-01</th>\n",
       "      <th>2044-01-01</th>\n",
       "      <th>2045-01-01</th>\n",
       "      <th>2046-01-01</th>\n",
       "      <th>2047-01-01</th>\n",
       "      <th>2048-01-01</th>\n",
       "      <th>2049-01-01</th>\n",
       "      <th>2050-01-01</th>\n",
       "    </tr>\n",
       "    <tr>\n",
       "      <th>climate_model</th>\n",
       "      <th>model</th>\n",
       "      <th>region</th>\n",
       "      <th>run_id</th>\n",
       "      <th>scenario</th>\n",
       "      <th>unit</th>\n",
       "      <th>variable</th>\n",
       "      <th></th>\n",
       "      <th></th>\n",
       "      <th></th>\n",
       "      <th></th>\n",
       "      <th></th>\n",
       "      <th></th>\n",
       "      <th></th>\n",
       "      <th></th>\n",
       "      <th></th>\n",
       "      <th></th>\n",
       "      <th></th>\n",
       "      <th></th>\n",
       "      <th></th>\n",
       "      <th></th>\n",
       "      <th></th>\n",
       "      <th></th>\n",
       "      <th></th>\n",
       "      <th></th>\n",
       "      <th></th>\n",
       "      <th></th>\n",
       "      <th></th>\n",
       "    </tr>\n",
       "  </thead>\n",
       "  <tbody>\n",
       "    <tr>\n",
       "      <th rowspan=\"5\" valign=\"top\">CICERO-SCM-PY</th>\n",
       "      <th rowspan=\"5\" valign=\"top\">ssp245-plus-0-percent</th>\n",
       "      <th rowspan=\"5\" valign=\"top\">World</th>\n",
       "      <th rowspan=\"2\" valign=\"top\">13555_old_NR_rounded</th>\n",
       "      <th rowspan=\"2\" valign=\"top\">ssp245-plus-0-percent</th>\n",
       "      <th>ZJ</th>\n",
       "      <th>Heat Content|Ocean</th>\n",
       "      <td>-0.593835</td>\n",
       "      <td>-1.570286</td>\n",
       "      <td>-2.381085</td>\n",
       "      <td>-3.099948</td>\n",
       "      <td>-3.717785</td>\n",
       "      <td>-4.247062</td>\n",
       "      <td>-4.721021</td>\n",
       "      <td>-5.193778</td>\n",
       "      <td>-5.526039</td>\n",
       "      <td>-5.719557</td>\n",
       "      <td>...</td>\n",
       "      <td>742.744165</td>\n",
       "      <td>755.683120</td>\n",
       "      <td>768.502614</td>\n",
       "      <td>781.190853</td>\n",
       "      <td>793.737748</td>\n",
       "      <td>806.134950</td>\n",
       "      <td>818.375548</td>\n",
       "      <td>830.453821</td>\n",
       "      <td>842.365059</td>\n",
       "      <td>854.105408</td>\n",
       "    </tr>\n",
       "    <tr>\n",
       "      <th>K</th>\n",
       "      <th>Surface Air Temperature Change</th>\n",
       "      <td>-0.005125</td>\n",
       "      <td>-0.012324</td>\n",
       "      <td>-0.014943</td>\n",
       "      <td>-0.016819</td>\n",
       "      <td>-0.018077</td>\n",
       "      <td>-0.018769</td>\n",
       "      <td>-0.019443</td>\n",
       "      <td>-0.020346</td>\n",
       "      <td>-0.020204</td>\n",
       "      <td>-0.019078</td>\n",
       "      <td>...</td>\n",
       "      <td>1.383938</td>\n",
       "      <td>1.397078</td>\n",
       "      <td>1.409731</td>\n",
       "      <td>1.421849</td>\n",
       "      <td>1.433411</td>\n",
       "      <td>1.444408</td>\n",
       "      <td>1.454839</td>\n",
       "      <td>1.464711</td>\n",
       "      <td>1.474032</td>\n",
       "      <td>1.482810</td>\n",
       "    </tr>\n",
       "    <tr>\n",
       "      <th rowspan=\"2\" valign=\"top\">13555_old_NR_improved</th>\n",
       "      <th rowspan=\"2\" valign=\"top\">ssp245-plus-0-percent</th>\n",
       "      <th>ZJ</th>\n",
       "      <th>Heat Content|Ocean</th>\n",
       "      <td>-0.593855</td>\n",
       "      <td>-1.606135</td>\n",
       "      <td>-2.505708</td>\n",
       "      <td>-3.405322</td>\n",
       "      <td>-4.270970</td>\n",
       "      <td>-5.112880</td>\n",
       "      <td>-5.986536</td>\n",
       "      <td>-6.997400</td>\n",
       "      <td>-7.873749</td>\n",
       "      <td>-8.597147</td>\n",
       "      <td>...</td>\n",
       "      <td>559.186149</td>\n",
       "      <td>572.664183</td>\n",
       "      <td>586.061968</td>\n",
       "      <td>599.366895</td>\n",
       "      <td>612.568145</td>\n",
       "      <td>625.656704</td>\n",
       "      <td>638.625040</td>\n",
       "      <td>651.466854</td>\n",
       "      <td>664.176887</td>\n",
       "      <td>676.750764</td>\n",
       "    </tr>\n",
       "    <tr>\n",
       "      <th>K</th>\n",
       "      <th>Surface Air Temperature Change</th>\n",
       "      <td>-0.005126</td>\n",
       "      <td>-0.012631</td>\n",
       "      <td>-0.015937</td>\n",
       "      <td>-0.019041</td>\n",
       "      <td>-0.021770</td>\n",
       "      <td>-0.024004</td>\n",
       "      <td>-0.026680</td>\n",
       "      <td>-0.030278</td>\n",
       "      <td>-0.032291</td>\n",
       "      <td>-0.032626</td>\n",
       "      <td>...</td>\n",
       "      <td>1.192714</td>\n",
       "      <td>1.208964</td>\n",
       "      <td>1.224776</td>\n",
       "      <td>1.240097</td>\n",
       "      <td>1.254898</td>\n",
       "      <td>1.269170</td>\n",
       "      <td>1.282909</td>\n",
       "      <td>1.296119</td>\n",
       "      <td>1.308805</td>\n",
       "      <td>1.320976</td>\n",
       "    </tr>\n",
       "    <tr>\n",
       "      <th>13555_old_NR</th>\n",
       "      <th>ssp245-plus-0-percent</th>\n",
       "      <th>ZJ</th>\n",
       "      <th>Heat Content|Ocean</th>\n",
       "      <td>-0.593855</td>\n",
       "      <td>-1.577005</td>\n",
       "      <td>-2.404635</td>\n",
       "      <td>-3.156586</td>\n",
       "      <td>-3.820057</td>\n",
       "      <td>-4.407276</td>\n",
       "      <td>-4.954925</td>\n",
       "      <td>-5.525275</td>\n",
       "      <td>-5.957797</td>\n",
       "      <td>-6.250798</td>\n",
       "      <td>...</td>\n",
       "      <td>703.621187</td>\n",
       "      <td>716.560632</td>\n",
       "      <td>729.388454</td>\n",
       "      <td>742.092835</td>\n",
       "      <td>754.663653</td>\n",
       "      <td>767.092522</td>\n",
       "      <td>779.372485</td>\n",
       "      <td>791.497773</td>\n",
       "      <td>803.463622</td>\n",
       "      <td>815.266116</td>\n",
       "    </tr>\n",
       "  </tbody>\n",
       "</table>\n",
       "<p>5 rows × 151 columns</p>\n",
       "</div>"
      ],
      "text/plain": [
       "time                                                                                                                        1900-01-01  \\\n",
       "climate_model model                 region run_id                scenario              unit variable                                     \n",
       "CICERO-SCM-PY ssp245-plus-0-percent World  13555_old_NR_rounded  ssp245-plus-0-percent ZJ   Heat Content|Ocean               -0.593835   \n",
       "                                                                                       K    Surface Air Temperature Change   -0.005125   \n",
       "                                           13555_old_NR_improved ssp245-plus-0-percent ZJ   Heat Content|Ocean               -0.593855   \n",
       "                                                                                       K    Surface Air Temperature Change   -0.005126   \n",
       "                                           13555_old_NR          ssp245-plus-0-percent ZJ   Heat Content|Ocean               -0.593855   \n",
       "\n",
       "time                                                                                                                        1901-01-01  \\\n",
       "climate_model model                 region run_id                scenario              unit variable                                     \n",
       "CICERO-SCM-PY ssp245-plus-0-percent World  13555_old_NR_rounded  ssp245-plus-0-percent ZJ   Heat Content|Ocean               -1.570286   \n",
       "                                                                                       K    Surface Air Temperature Change   -0.012324   \n",
       "                                           13555_old_NR_improved ssp245-plus-0-percent ZJ   Heat Content|Ocean               -1.606135   \n",
       "                                                                                       K    Surface Air Temperature Change   -0.012631   \n",
       "                                           13555_old_NR          ssp245-plus-0-percent ZJ   Heat Content|Ocean               -1.577005   \n",
       "\n",
       "time                                                                                                                        1902-01-01  \\\n",
       "climate_model model                 region run_id                scenario              unit variable                                     \n",
       "CICERO-SCM-PY ssp245-plus-0-percent World  13555_old_NR_rounded  ssp245-plus-0-percent ZJ   Heat Content|Ocean               -2.381085   \n",
       "                                                                                       K    Surface Air Temperature Change   -0.014943   \n",
       "                                           13555_old_NR_improved ssp245-plus-0-percent ZJ   Heat Content|Ocean               -2.505708   \n",
       "                                                                                       K    Surface Air Temperature Change   -0.015937   \n",
       "                                           13555_old_NR          ssp245-plus-0-percent ZJ   Heat Content|Ocean               -2.404635   \n",
       "\n",
       "time                                                                                                                        1903-01-01  \\\n",
       "climate_model model                 region run_id                scenario              unit variable                                     \n",
       "CICERO-SCM-PY ssp245-plus-0-percent World  13555_old_NR_rounded  ssp245-plus-0-percent ZJ   Heat Content|Ocean               -3.099948   \n",
       "                                                                                       K    Surface Air Temperature Change   -0.016819   \n",
       "                                           13555_old_NR_improved ssp245-plus-0-percent ZJ   Heat Content|Ocean               -3.405322   \n",
       "                                                                                       K    Surface Air Temperature Change   -0.019041   \n",
       "                                           13555_old_NR          ssp245-plus-0-percent ZJ   Heat Content|Ocean               -3.156586   \n",
       "\n",
       "time                                                                                                                        1904-01-01  \\\n",
       "climate_model model                 region run_id                scenario              unit variable                                     \n",
       "CICERO-SCM-PY ssp245-plus-0-percent World  13555_old_NR_rounded  ssp245-plus-0-percent ZJ   Heat Content|Ocean               -3.717785   \n",
       "                                                                                       K    Surface Air Temperature Change   -0.018077   \n",
       "                                           13555_old_NR_improved ssp245-plus-0-percent ZJ   Heat Content|Ocean               -4.270970   \n",
       "                                                                                       K    Surface Air Temperature Change   -0.021770   \n",
       "                                           13555_old_NR          ssp245-plus-0-percent ZJ   Heat Content|Ocean               -3.820057   \n",
       "\n",
       "time                                                                                                                        1905-01-01  \\\n",
       "climate_model model                 region run_id                scenario              unit variable                                     \n",
       "CICERO-SCM-PY ssp245-plus-0-percent World  13555_old_NR_rounded  ssp245-plus-0-percent ZJ   Heat Content|Ocean               -4.247062   \n",
       "                                                                                       K    Surface Air Temperature Change   -0.018769   \n",
       "                                           13555_old_NR_improved ssp245-plus-0-percent ZJ   Heat Content|Ocean               -5.112880   \n",
       "                                                                                       K    Surface Air Temperature Change   -0.024004   \n",
       "                                           13555_old_NR          ssp245-plus-0-percent ZJ   Heat Content|Ocean               -4.407276   \n",
       "\n",
       "time                                                                                                                        1906-01-01  \\\n",
       "climate_model model                 region run_id                scenario              unit variable                                     \n",
       "CICERO-SCM-PY ssp245-plus-0-percent World  13555_old_NR_rounded  ssp245-plus-0-percent ZJ   Heat Content|Ocean               -4.721021   \n",
       "                                                                                       K    Surface Air Temperature Change   -0.019443   \n",
       "                                           13555_old_NR_improved ssp245-plus-0-percent ZJ   Heat Content|Ocean               -5.986536   \n",
       "                                                                                       K    Surface Air Temperature Change   -0.026680   \n",
       "                                           13555_old_NR          ssp245-plus-0-percent ZJ   Heat Content|Ocean               -4.954925   \n",
       "\n",
       "time                                                                                                                        1907-01-01  \\\n",
       "climate_model model                 region run_id                scenario              unit variable                                     \n",
       "CICERO-SCM-PY ssp245-plus-0-percent World  13555_old_NR_rounded  ssp245-plus-0-percent ZJ   Heat Content|Ocean               -5.193778   \n",
       "                                                                                       K    Surface Air Temperature Change   -0.020346   \n",
       "                                           13555_old_NR_improved ssp245-plus-0-percent ZJ   Heat Content|Ocean               -6.997400   \n",
       "                                                                                       K    Surface Air Temperature Change   -0.030278   \n",
       "                                           13555_old_NR          ssp245-plus-0-percent ZJ   Heat Content|Ocean               -5.525275   \n",
       "\n",
       "time                                                                                                                        1908-01-01  \\\n",
       "climate_model model                 region run_id                scenario              unit variable                                     \n",
       "CICERO-SCM-PY ssp245-plus-0-percent World  13555_old_NR_rounded  ssp245-plus-0-percent ZJ   Heat Content|Ocean               -5.526039   \n",
       "                                                                                       K    Surface Air Temperature Change   -0.020204   \n",
       "                                           13555_old_NR_improved ssp245-plus-0-percent ZJ   Heat Content|Ocean               -7.873749   \n",
       "                                                                                       K    Surface Air Temperature Change   -0.032291   \n",
       "                                           13555_old_NR          ssp245-plus-0-percent ZJ   Heat Content|Ocean               -5.957797   \n",
       "\n",
       "time                                                                                                                        1909-01-01  \\\n",
       "climate_model model                 region run_id                scenario              unit variable                                     \n",
       "CICERO-SCM-PY ssp245-plus-0-percent World  13555_old_NR_rounded  ssp245-plus-0-percent ZJ   Heat Content|Ocean               -5.719557   \n",
       "                                                                                       K    Surface Air Temperature Change   -0.019078   \n",
       "                                           13555_old_NR_improved ssp245-plus-0-percent ZJ   Heat Content|Ocean               -8.597147   \n",
       "                                                                                       K    Surface Air Temperature Change   -0.032626   \n",
       "                                           13555_old_NR          ssp245-plus-0-percent ZJ   Heat Content|Ocean               -6.250798   \n",
       "\n",
       "time                                                                                                                        ...  \\\n",
       "climate_model model                 region run_id                scenario              unit variable                        ...   \n",
       "CICERO-SCM-PY ssp245-plus-0-percent World  13555_old_NR_rounded  ssp245-plus-0-percent ZJ   Heat Content|Ocean              ...   \n",
       "                                                                                       K    Surface Air Temperature Change  ...   \n",
       "                                           13555_old_NR_improved ssp245-plus-0-percent ZJ   Heat Content|Ocean              ...   \n",
       "                                                                                       K    Surface Air Temperature Change  ...   \n",
       "                                           13555_old_NR          ssp245-plus-0-percent ZJ   Heat Content|Ocean              ...   \n",
       "\n",
       "time                                                                                                                        2041-01-01  \\\n",
       "climate_model model                 region run_id                scenario              unit variable                                     \n",
       "CICERO-SCM-PY ssp245-plus-0-percent World  13555_old_NR_rounded  ssp245-plus-0-percent ZJ   Heat Content|Ocean              742.744165   \n",
       "                                                                                       K    Surface Air Temperature Change    1.383938   \n",
       "                                           13555_old_NR_improved ssp245-plus-0-percent ZJ   Heat Content|Ocean              559.186149   \n",
       "                                                                                       K    Surface Air Temperature Change    1.192714   \n",
       "                                           13555_old_NR          ssp245-plus-0-percent ZJ   Heat Content|Ocean              703.621187   \n",
       "\n",
       "time                                                                                                                        2042-01-01  \\\n",
       "climate_model model                 region run_id                scenario              unit variable                                     \n",
       "CICERO-SCM-PY ssp245-plus-0-percent World  13555_old_NR_rounded  ssp245-plus-0-percent ZJ   Heat Content|Ocean              755.683120   \n",
       "                                                                                       K    Surface Air Temperature Change    1.397078   \n",
       "                                           13555_old_NR_improved ssp245-plus-0-percent ZJ   Heat Content|Ocean              572.664183   \n",
       "                                                                                       K    Surface Air Temperature Change    1.208964   \n",
       "                                           13555_old_NR          ssp245-plus-0-percent ZJ   Heat Content|Ocean              716.560632   \n",
       "\n",
       "time                                                                                                                        2043-01-01  \\\n",
       "climate_model model                 region run_id                scenario              unit variable                                     \n",
       "CICERO-SCM-PY ssp245-plus-0-percent World  13555_old_NR_rounded  ssp245-plus-0-percent ZJ   Heat Content|Ocean              768.502614   \n",
       "                                                                                       K    Surface Air Temperature Change    1.409731   \n",
       "                                           13555_old_NR_improved ssp245-plus-0-percent ZJ   Heat Content|Ocean              586.061968   \n",
       "                                                                                       K    Surface Air Temperature Change    1.224776   \n",
       "                                           13555_old_NR          ssp245-plus-0-percent ZJ   Heat Content|Ocean              729.388454   \n",
       "\n",
       "time                                                                                                                        2044-01-01  \\\n",
       "climate_model model                 region run_id                scenario              unit variable                                     \n",
       "CICERO-SCM-PY ssp245-plus-0-percent World  13555_old_NR_rounded  ssp245-plus-0-percent ZJ   Heat Content|Ocean              781.190853   \n",
       "                                                                                       K    Surface Air Temperature Change    1.421849   \n",
       "                                           13555_old_NR_improved ssp245-plus-0-percent ZJ   Heat Content|Ocean              599.366895   \n",
       "                                                                                       K    Surface Air Temperature Change    1.240097   \n",
       "                                           13555_old_NR          ssp245-plus-0-percent ZJ   Heat Content|Ocean              742.092835   \n",
       "\n",
       "time                                                                                                                        2045-01-01  \\\n",
       "climate_model model                 region run_id                scenario              unit variable                                     \n",
       "CICERO-SCM-PY ssp245-plus-0-percent World  13555_old_NR_rounded  ssp245-plus-0-percent ZJ   Heat Content|Ocean              793.737748   \n",
       "                                                                                       K    Surface Air Temperature Change    1.433411   \n",
       "                                           13555_old_NR_improved ssp245-plus-0-percent ZJ   Heat Content|Ocean              612.568145   \n",
       "                                                                                       K    Surface Air Temperature Change    1.254898   \n",
       "                                           13555_old_NR          ssp245-plus-0-percent ZJ   Heat Content|Ocean              754.663653   \n",
       "\n",
       "time                                                                                                                        2046-01-01  \\\n",
       "climate_model model                 region run_id                scenario              unit variable                                     \n",
       "CICERO-SCM-PY ssp245-plus-0-percent World  13555_old_NR_rounded  ssp245-plus-0-percent ZJ   Heat Content|Ocean              806.134950   \n",
       "                                                                                       K    Surface Air Temperature Change    1.444408   \n",
       "                                           13555_old_NR_improved ssp245-plus-0-percent ZJ   Heat Content|Ocean              625.656704   \n",
       "                                                                                       K    Surface Air Temperature Change    1.269170   \n",
       "                                           13555_old_NR          ssp245-plus-0-percent ZJ   Heat Content|Ocean              767.092522   \n",
       "\n",
       "time                                                                                                                        2047-01-01  \\\n",
       "climate_model model                 region run_id                scenario              unit variable                                     \n",
       "CICERO-SCM-PY ssp245-plus-0-percent World  13555_old_NR_rounded  ssp245-plus-0-percent ZJ   Heat Content|Ocean              818.375548   \n",
       "                                                                                       K    Surface Air Temperature Change    1.454839   \n",
       "                                           13555_old_NR_improved ssp245-plus-0-percent ZJ   Heat Content|Ocean              638.625040   \n",
       "                                                                                       K    Surface Air Temperature Change    1.282909   \n",
       "                                           13555_old_NR          ssp245-plus-0-percent ZJ   Heat Content|Ocean              779.372485   \n",
       "\n",
       "time                                                                                                                        2048-01-01  \\\n",
       "climate_model model                 region run_id                scenario              unit variable                                     \n",
       "CICERO-SCM-PY ssp245-plus-0-percent World  13555_old_NR_rounded  ssp245-plus-0-percent ZJ   Heat Content|Ocean              830.453821   \n",
       "                                                                                       K    Surface Air Temperature Change    1.464711   \n",
       "                                           13555_old_NR_improved ssp245-plus-0-percent ZJ   Heat Content|Ocean              651.466854   \n",
       "                                                                                       K    Surface Air Temperature Change    1.296119   \n",
       "                                           13555_old_NR          ssp245-plus-0-percent ZJ   Heat Content|Ocean              791.497773   \n",
       "\n",
       "time                                                                                                                        2049-01-01  \\\n",
       "climate_model model                 region run_id                scenario              unit variable                                     \n",
       "CICERO-SCM-PY ssp245-plus-0-percent World  13555_old_NR_rounded  ssp245-plus-0-percent ZJ   Heat Content|Ocean              842.365059   \n",
       "                                                                                       K    Surface Air Temperature Change    1.474032   \n",
       "                                           13555_old_NR_improved ssp245-plus-0-percent ZJ   Heat Content|Ocean              664.176887   \n",
       "                                                                                       K    Surface Air Temperature Change    1.308805   \n",
       "                                           13555_old_NR          ssp245-plus-0-percent ZJ   Heat Content|Ocean              803.463622   \n",
       "\n",
       "time                                                                                                                        2050-01-01  \n",
       "climate_model model                 region run_id                scenario              unit variable                                    \n",
       "CICERO-SCM-PY ssp245-plus-0-percent World  13555_old_NR_rounded  ssp245-plus-0-percent ZJ   Heat Content|Ocean              854.105408  \n",
       "                                                                                       K    Surface Air Temperature Change    1.482810  \n",
       "                                           13555_old_NR_improved ssp245-plus-0-percent ZJ   Heat Content|Ocean              676.750764  \n",
       "                                                                                       K    Surface Air Temperature Change    1.320976  \n",
       "                                           13555_old_NR          ssp245-plus-0-percent ZJ   Heat Content|Ocean              815.266116  \n",
       "\n",
       "[5 rows x 151 columns]"
      ]
     },
     "execution_count": 9,
     "metadata": {},
     "output_type": "execute_result"
    }
   ],
   "source": [
    "results.head()"
   ]
  },
  {
   "cell_type": "markdown",
   "id": "b40f6c19",
   "metadata": {},
   "source": [
    "Plot some plume plots, showing the range of temperature for each scenario (looking at percentiles of the parameter response distribution)"
   ]
  },
  {
   "cell_type": "code",
   "execution_count": 10,
   "id": "81365ddc",
   "metadata": {},
   "outputs": [],
   "source": [
    "\n",
    "plot_kwargs = dict(\n",
    "    quantiles_plumes=[((0.05, 0.95), 0.5), ((0.5,), 1.0)],\n",
    "    quantile_over=\"run_id\",\n",
    "    hue_var=\"scenario\",\n",
    "    style_var=\"model\",\n",
    "    style_label=\"IAM\",\n",
    "    time_axis=\"year\",\n",
    ")\n"
   ]
  },
  {
   "cell_type": "markdown",
   "id": "2d70dc57",
   "metadata": {},
   "source": [
    "and plot!"
   ]
  },
  {
   "cell_type": "code",
   "execution_count": 11,
   "id": "f9b53868",
   "metadata": {},
   "outputs": [
    {
     "data": {
      "text/plain": [
       "<matplotlib.lines.Line2D at 0x7fc147b07990>"
      ]
     },
     "execution_count": 11,
     "metadata": {},
     "output_type": "execute_result"
    },
    {
     "data": {
      "image/png": "[encoded data removed]",
      "text/plain": [
       "<Figure size 1200x700 with 1 Axes>"
      ]
     },
     "metadata": {},
     "output_type": "display_data"
    }
   ],
   "source": [
    "\n",
    "# NBVAL_IGNORE_OUTPUT\n",
    "ax = plt.figure(figsize=(12, 7)).add_subplot(111)\n",
    "results.filter(variable=\"Surface Air Temperature Change\").plumeplot(\n",
    "    ax=ax, **plot_kwargs\n",
    ")\n",
    "ax.axhline(1.1)\n",
    "ax.axvline(2018)\n"
   ]
  },
  {
   "cell_type": "code",
   "execution_count": null,
   "id": "1f60af0c",
   "metadata": {},
   "outputs": [],
   "source": []
  }
 ],
 "metadata": {
  "kernelspec": {
   "display_name": "Python 3 (ipykernel)",
   "language": "python",
   "name": "python3"
  },
  "language_info": {
   "codemirror_mode": {
    "name": "ipython",
    "version": 3
   },
   "file_extension": ".py",
   "mimetype": "text/x-python",
   "name": "python",
   "nbconvert_exporter": "python",
   "pygments_lexer": "ipython3",
   "version": "3.7.13"
  }
 },
 "nbformat": 4,
 "nbformat_minor": 5
}
