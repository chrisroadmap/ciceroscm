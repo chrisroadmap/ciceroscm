{
 "cells": [
  {
   "cell_type": "markdown",
   "id": "12bc2f58",
   "metadata": {},
   "source": [
    "# CICERO SCM notebook 1"
   ]
  },
  {
   "cell_type": "markdown",
   "id": "72ab0c8d",
   "metadata": {},
   "source": [
    "Import some stuff"
   ]
  },
  {
   "cell_type": "code",
   "execution_count": 12,
   "id": "c722d7d9",
   "metadata": {},
   "outputs": [],
   "source": [
    "import sys\n",
    "import os\n",
    "import numpy as np\n",
    "import shutil\n",
    "import matplotlib.pyplot as plt\n",
    "import pandas as pd\n",
    "import pandas.testing as pdt"
   ]
  },
  {
   "cell_type": "markdown",
   "id": "4f7116d4",
   "metadata": {},
   "source": [
    "Install the model, if needed"
   ]
  },
  {
   "cell_type": "code",
   "execution_count": 13,
   "id": "33beeeaa",
   "metadata": {},
   "outputs": [],
   "source": [
    "#!pip install -e ..\n"
   ]
  },
  {
   "cell_type": "markdown",
   "id": "90503e7a",
   "metadata": {},
   "source": [
    "Import the model wrapper function"
   ]
  },
  {
   "cell_type": "code",
   "execution_count": 14,
   "id": "3476370e",
   "metadata": {},
   "outputs": [],
   "source": [
    "sys.path.append('../src')\n",
    "from ciceroscm import CICEROSCM"
   ]
  },
  {
   "cell_type": "markdown",
   "id": "742035a6",
   "metadata": {},
   "source": [
    "set up input/output directories"
   ]
  },
  {
   "cell_type": "code",
   "execution_count": 15,
   "id": "741ed638",
   "metadata": {},
   "outputs": [
    {
     "data": {
      "text/plain": [
       "'/home/sanderson/ciceroscm/notebooks/../tests/test-data'"
      ]
     },
     "execution_count": 15,
     "metadata": {},
     "output_type": "execute_result"
    }
   ],
   "source": [
    "#cscm = CICEROSCM()\n",
    "# outdir_save = os.path.join(os.getcwd(), \"output\")\n",
    "#outdir = os.getcwd()+'/output/'\n",
    "#if not os.path.exists(outdir):\n",
    "#    os.makedirs(outdir)\n",
    "test_data_dir = os.getcwd()+'/../tests/test-data'\n",
    "test_data_dir "
   ]
  },
  {
   "cell_type": "markdown",
   "id": "3722e0cc",
   "metadata": {},
   "source": [
    "Run the model"
   ]
  },
  {
   "cell_type": "code",
   "execution_count": null,
   "id": "c5333684",
   "metadata": {},
   "outputs": [],
   "source": []
  },
  {
   "cell_type": "code",
   "execution_count": 16,
   "id": "64dad752",
   "metadata": {
    "scrolled": true
   },
   "outputs": [
    {
     "name": "stderr",
     "output_type": "stream",
     "text": [
      "Parameter idtm not in pamset. Using default value 24\n",
      "/home/sanderson/ciceroscm/src/ciceroscm/concentrations_emissions_handler.py:751: SettingWithCopyWarning: \n",
      "A value is trying to be set on a copy of a slice from a DataFrame\n",
      "\n",
      "See the caveats in the documentation: https://pandas.pydata.org/pandas-docs/stable/user_guide/indexing.html#returning-a-view-versus-a-copy\n",
      "  self.df_gas[\"NAT_EM\"][tracer] = self.nat_emis_ch4[\"CH4\"][yr]\n",
      "/home/sanderson/ciceroscm/src/ciceroscm/concentrations_emissions_handler.py:754: SettingWithCopyWarning: \n",
      "A value is trying to be set on a copy of a slice from a DataFrame\n",
      "\n",
      "See the caveats in the documentation: https://pandas.pydata.org/pandas-docs/stable/user_guide/indexing.html#returning-a-view-versus-a-copy\n",
      "  self.df_gas[\"NAT_EM\"][tracer] = self.nat_emis_n2o[\"N2O\"][yr]\n"
     ]
    }
   ],
   "source": [
    "scen = 'test'\n",
    "cscm=CICEROSCM({\n",
    "            \"gaspamfile\": os.path.join(test_data_dir, \"gases_v1RCMIP.txt\"),\n",
    "            \"output_prefix\": outdir,\n",
    "            \"emstart\": 1850,   \n",
    "            \"nystart\": 1750,\n",
    "            \"nyend\": 2100,\n",
    "            \"concentrations_file\": os.path.join(test_data_dir, \"ssp245_conc_RCMIP.txt\"),\n",
    "            \"emissions_file\": os.path.join(test_data_dir, \"ssp245_em_RCMIP.txt\"),\n",
    "            \"nat_ch4_file\": os.path.join(test_data_dir, \"natemis_ch4.txt\"),\n",
    "            \"nat_n2o_file\": os.path.join(test_data_dir, \"natemis_n2o.txt\"),\n",
    "            \"idtm\":24,\n",
    "        })\n",
    "cscm._run({\n",
    "            \"results_as_dict\":True\n",
    "        },\n",
    "    pamset_udm={\"threstemp\": 7.0, #scales vertical velocity as a function of mixed layer temperature\n",
    "                    \"rlamdo\":16.0,#air-sea heat exchange coefficient (wm^-2K^-1)\n",
    "                    \"akapa\":0.634, #vertical heat diffusivity\n",
    "                    \"cpi\":0.4, #temperature change ratio: polar to nonpolar region\n",
    "                    \"W\":4, #vertical velocity (m/yr)\n",
    "                    \"beto\":3.5, #ocean interhemispheric heat exchange coeff (Wm^-2K^-1)\n",
    "                    \"lambda\":0.54,\n",
    "                    \"mixed\":60.0,  #mixed layer depth\n",
    "                    \"foan\":0.61, #fraction of northern hemisphere covered by ocean\n",
    "                    \"foas\":0.81, #fraction of northern hemisphere covered by ocean\n",
    "                    \"ebbeta\":0.0,#atmospheric interhemispheric heat exchange \n",
    "                    \"fnso\":0.7531, #ocean area ratio, northern to southern hemisphere\n",
    "                    \"lm\":40, #number of vertical layers\n",
    "                    \"ldtime\":12,\n",
    "                   },\n",
    "    pamset_emiconc={\"lamb\": 0.8,\n",
    "                    \"qbmb\":0.03,\n",
    "                    \"qo3\":0.4,\n",
    "                    \"qdirso2\":-.457,\n",
    "                    \"qindso2\":-.514,\n",
    "                    \"qbc\":.2,\n",
    "                    \"qoc\":-.103,\n",
    "                    \"ref_yr\":2010,\n",
    "                    \"idtm\":24},\n",
    "    )"
   ]
  },
  {
   "cell_type": "markdown",
   "id": "a6ed7684",
   "metadata": {},
   "source": [
    "Read model output into Pandas dataframes"
   ]
  },
  {
   "cell_type": "code",
   "execution_count": 17,
   "id": "c33af252",
   "metadata": {},
   "outputs": [],
   "source": [
    "required=dict.fromkeys(['nystart','nyend'])"
   ]
  },
  {
   "cell_type": "code",
   "execution_count": 18,
   "id": "56390751",
   "metadata": {},
   "outputs": [
    {
     "data": {
      "text/plain": [
       "{'nystart': None, 'nyend': None}"
      ]
     },
     "execution_count": 18,
     "metadata": {},
     "output_type": "execute_result"
    }
   ],
   "source": [
    "required"
   ]
  },
  {
   "cell_type": "code",
   "execution_count": 19,
   "id": "4e283433",
   "metadata": {},
   "outputs": [],
   "source": [
    "pamset_emiconc={\"lamb\": 0.8,\n",
    "                    \"qbmb\":0.03,\n",
    "                    \"qo3\":0.4,\n",
    "                    \"qdirso2\":-.457,\n",
    "                    \"qindso2\":-.514,\n",
    "                    \"qbc\":.2,\n",
    "                    \"qoc\":-.103,\n",
    "                    \"ref_yr\":2010,\n",
    "                    \"idtm\":24}"
   ]
  },
  {
   "cell_type": "code",
   "execution_count": 20,
   "id": "449bcbb1",
   "metadata": {},
   "outputs": [
    {
     "data": {
      "text/plain": [
       "dict"
      ]
     },
     "execution_count": 20,
     "metadata": {},
     "output_type": "execute_result"
    }
   ],
   "source": [
    "type(pamset_emiconc)"
   ]
  },
  {
   "cell_type": "code",
   "execution_count": 21,
   "id": "27ad13bf",
   "metadata": {},
   "outputs": [
    {
     "data": {
      "text/plain": [
       "dict_keys(['OHC700', 'OHCTOT', 'RIB_glob', 'RIB_N', 'RIB_S', 'dT_glob', 'dT_NH', 'dT_SH', 'dT_glob_air', 'dT_NH_air', 'dT_SH_air', 'dT_glob_sea', 'dT_NH_sea', 'dT_SHsea', 'dSL(m)', 'dSL_thermal(m)', 'dSL_ice(m)', 'Total_forcing', 'emissions', 'concentrations', 'forcing'])"
      ]
     },
     "execution_count": 21,
     "metadata": {},
     "output_type": "execute_result"
    }
   ],
   "source": [
    "cscm.results.keys()"
   ]
  },
  {
   "cell_type": "code",
   "execution_count": 24,
   "id": "7c6a8c11",
   "metadata": {},
   "outputs": [],
   "source": [
    "#temperature\n",
    "df_temp=cscm.results['dT_glob']#pd.read_csv(outdir+'/output_temp.txt', sep='\\t', index_col=0)\n",
    "#concentrations\n",
    "df_conc=cscm.results['concentrations']#pd.read_csv(outdir+'/output_conc.txt', sep='\\t', index_col=0)\n",
    "#emissions\n",
    "df_em=cscm.results['emissions']#pd.read_csv(outdir+'/output_em.txt', sep='\\t', index_col=0)\n",
    "#forcing\n",
    "df_forc=cscm.results['forcing']#pd.read_csv(outdir+'/output_forc.txt', sep='\\t', index_col=0)\n",
    "#ocean heat content\n",
    "df_ohc=cscm.results['OHCTOT']#pd.read_csv(outdir+'/output_ohc.txt', sep='\\t', index_col=0)\n",
    "#rib\n",
    "df_rib=cscm.results['RIB_glob']#pd.read_csv(outdir+'/output_rib.txt', sep='\\t', index_col=0)\n",
    "df_comp =pd.read_csv(test_data_dir + '/gases_v1RCMIP.txt', sep='\\t', index_col=0)\n"
   ]
  },
  {
   "cell_type": "markdown",
   "id": "316e5a88",
   "metadata": {},
   "source": []
  },
  {
   "cell_type": "code",
   "execution_count": 27,
   "id": "b42cc9bc",
   "metadata": {},
   "outputs": [
    {
     "data": {
      "text/plain": [
       "array([-3.41240290e-04, -1.32287167e-03, -1.88926677e-03, -2.16667632e-03,\n",
       "       -2.32674998e-03, -2.42894603e-03, -2.46719437e-03, -2.47068214e-03,\n",
       "       -2.48077489e-03, -2.46537850e-03, -2.45505278e-03, -2.46384118e-03,\n",
       "       -2.43450131e-03, -2.35100377e-03, -2.22954078e-03, -2.07766794e-03,\n",
       "       -1.93421487e-03, -1.76760932e-03, -1.60478869e-03, -1.47262443e-03,\n",
       "       -1.31310835e-03, -1.13438996e-03, -9.05877823e-04, -6.59093797e-04,\n",
       "       -4.45806985e-04, -2.72963993e-04, -7.15198282e-05,  1.48885927e-04,\n",
       "        3.39981148e-04,  5.09244747e-04,  6.98885891e-04,  8.82143088e-04,\n",
       "        1.08048554e-03,  1.29509412e-03,  1.50577368e-03,  1.71146898e-03,\n",
       "        1.89954241e-03,  2.08870797e-03,  2.25236379e-03,  2.41482857e-03,\n",
       "        2.61655497e-03,  2.83045826e-03,  3.06487939e-03,  3.30193720e-03,\n",
       "        3.52274670e-03,  3.72535671e-03,  3.96163138e-03,  4.21557117e-03,\n",
       "        4.44677437e-03,  4.68690221e-03,  4.95553205e-03,  5.22563415e-03,\n",
       "        5.51002157e-03,  5.81107319e-03,  6.14007855e-03,  6.46871286e-03,\n",
       "        6.79915518e-03,  7.14510248e-03,  7.48828926e-03,  7.83887091e-03,\n",
       "        8.23050805e-03,  8.64106425e-03,  9.07835195e-03,  9.52799810e-03,\n",
       "        9.96155306e-03,  1.03639062e-02,  1.07843145e-02,  1.12107729e-02,\n",
       "        1.16293499e-02,  1.20413782e-02,  1.24765931e-02,  1.28946640e-02,\n",
       "        1.33244614e-02,  1.37801901e-02,  1.42390810e-02,  1.46865699e-02,\n",
       "        1.51246953e-02,  1.55676977e-02,  1.59817977e-02,  1.63879650e-02,\n",
       "        1.68032652e-02,  1.71865971e-02,  1.76158061e-02,  1.80335979e-02,\n",
       "        1.84172840e-02,  1.87730775e-02,  1.91234466e-02,  1.94304901e-02,\n",
       "        1.97208529e-02,  2.00055526e-02,  2.03212986e-02,  2.06412881e-02,\n",
       "        2.09582858e-02,  2.13236814e-02,  2.17686085e-02,  2.22415025e-02,\n",
       "        2.27386558e-02,  2.32837544e-02,  2.37731476e-02,  2.42282973e-02,\n",
       "        2.46924228e-02,  2.51592928e-02,  2.56104681e-02,  2.60742696e-02,\n",
       "        2.65525424e-02,  2.70258344e-02,  2.75188918e-02,  2.80200199e-02,\n",
       "        2.86364955e-02,  2.92638692e-02,  2.98090207e-02,  3.03281013e-02,\n",
       "        3.09315849e-02,  3.15925271e-02,  3.22955064e-02,  3.30937715e-02,\n",
       "        3.39627597e-02,  3.48595683e-02,  3.57958426e-02,  3.67738095e-02,\n",
       "        3.76750857e-02,  3.85839699e-02,  3.93801730e-02,  4.00474089e-02,\n",
       "        4.07531694e-02,  4.15740895e-02,  4.22586207e-02,  4.29725013e-02,\n",
       "        4.37668303e-02,  4.45998478e-02,  4.52427979e-02,  4.57317661e-02,\n",
       "        4.63241036e-02,  4.68271162e-02,  4.73278879e-02,  4.80410583e-02,\n",
       "        4.88786534e-02,  4.97459679e-02,  5.04458529e-02,  5.09997373e-02,\n",
       "        5.16497020e-02,  5.20801424e-02,  5.25040649e-02,  5.31396090e-02,\n",
       "        5.40080419e-02,  5.47915483e-02,  5.53761404e-02,  5.59301776e-02,\n",
       "        5.64536793e-02,  5.67231632e-02,  5.66930571e-02,  5.66919592e-02,\n",
       "        5.68225713e-02,  5.68934080e-02,  5.67607185e-02,  5.69167779e-02,\n",
       "        5.68687039e-02,  5.66038385e-02,  5.65026856e-02,  5.74789808e-02,\n",
       "        5.81397501e-02,  5.88016588e-02,  5.96482286e-02,  6.01134321e-02,\n",
       "        6.09670999e-02,  6.33336636e-02,  6.50757640e-02,  6.56012772e-02,\n",
       "        6.62655200e-02,  6.85038999e-02,  7.22366173e-02,  7.52336507e-02,\n",
       "        7.96746780e-02,  8.22100439e-02,  8.31535906e-02,  8.48523852e-02,\n",
       "        8.68712784e-02,  8.86047354e-02,  8.97375117e-02,  9.09432038e-02,\n",
       "        9.22282874e-02,  9.57345086e-02,  1.01074285e-01,  1.06594549e-01,\n",
       "        1.09891479e-01,  1.11489079e-01,  1.12271429e-01,  1.12543190e-01,\n",
       "        1.13137640e-01,  1.15212769e-01,  1.15995149e-01,  1.15655572e-01,\n",
       "        1.15672550e-01,  1.16270414e-01,  1.17656727e-01,  1.20957456e-01,\n",
       "        1.26275354e-01,  1.30111654e-01,  1.31484247e-01,  1.33312596e-01,\n",
       "        1.35777626e-01,  1.36550447e-01,  1.37371567e-01,  1.39070034e-01,\n",
       "        1.41362502e-01,  1.43513109e-01,  1.44090396e-01,  1.44520738e-01,\n",
       "        1.45763456e-01,  1.47723208e-01,  1.49394936e-01,  1.49821893e-01,\n",
       "        1.47773041e-01,  1.47502103e-01,  1.48528035e-01,  1.49941457e-01,\n",
       "        1.52449946e-01,  1.56373642e-01,  1.61859383e-01,  1.66576506e-01,\n",
       "        1.70912178e-01,  1.75361686e-01,  1.81626053e-01,  1.87787211e-01,\n",
       "        1.93709044e-01,  2.02143959e-01,  2.11338858e-01,  2.19214525e-01,\n",
       "        2.28032078e-01,  2.37655781e-01,  2.47249601e-01,  2.58023561e-01,\n",
       "        2.70818956e-01,  2.84386632e-01,  2.97352202e-01,  3.09768994e-01,\n",
       "        3.22321838e-01,  3.34991531e-01,  3.47247099e-01,  3.59480509e-01,\n",
       "        3.71713986e-01,  3.84585531e-01,  3.98487056e-01,  4.12135557e-01,\n",
       "        4.26227363e-01,  4.40943923e-01,  4.55095233e-01,  4.69278172e-01,\n",
       "        4.84109063e-01,  4.98756261e-01,  5.13311631e-01,  5.26133063e-01,\n",
       "        5.38264791e-01,  5.50314390e-01,  5.60411276e-01,  5.69204661e-01,\n",
       "        5.77751209e-01,  5.87742727e-01,  5.99209923e-01,  6.12168976e-01,\n",
       "        6.26450000e-01,  6.40529430e-01,  6.54098604e-01,  6.68258937e-01,\n",
       "        6.82409060e-01,  6.98795847e-01,  7.19440505e-01,  7.39331404e-01,\n",
       "        7.58693064e-01,  7.77954030e-01,  7.97222699e-01,  8.15958644e-01,\n",
       "        8.33025504e-01,  8.49021824e-01,  8.64351572e-01,  8.79199076e-01,\n",
       "        8.93667593e-01,  9.07824809e-01,  9.21719675e-01,  9.35389704e-01,\n",
       "        9.48864689e-01,  9.62321927e-01,  9.76064735e-01,  9.89915572e-01,\n",
       "        1.00376046e+00,  1.01755065e+00,  1.03126203e+00,  1.04488142e+00,\n",
       "        1.05840131e+00,  1.07181761e+00,  1.08512841e+00,  1.09834480e+00,\n",
       "        1.11148423e+00,  1.12452100e+00,  1.13743979e+00,  1.15023377e+00,\n",
       "        1.16290004e+00,  1.17543774e+00,  1.18784718e+00,  1.20012948e+00,\n",
       "        1.21228625e+00,  1.22422398e+00,  1.23575379e+00,  1.24695897e+00,\n",
       "        1.25789835e+00,  1.26859954e+00,  1.27907899e+00,  1.28934843e+00,\n",
       "        1.29941713e+00,  1.30929287e+00,  1.31898241e+00,  1.32843641e+00,\n",
       "        1.33755275e+00,  1.34639312e+00,  1.35500017e+00,  1.36339502e+00,\n",
       "        1.37159057e+00,  1.37959589e+00,  1.38741791e+00,  1.39506213e+00,\n",
       "        1.40253310e+00,  1.40982568e+00,  1.41691600e+00,  1.42378765e+00,\n",
       "        1.43043204e+00,  1.43684435e+00,  1.44302166e+00,  1.44896215e+00,\n",
       "        1.45466475e+00,  1.46012888e+00,  1.46535433e+00,  1.47036942e+00,\n",
       "        1.47522815e+00,  1.47989917e+00,  1.48436118e+00,  1.48860387e+00,\n",
       "        1.49262096e+00,  1.49640795e+00,  1.49996130e+00,  1.50327804e+00,\n",
       "        1.50635564e+00,  1.50916630e+00,  1.51166830e+00,  1.51391208e+00,\n",
       "        1.51592945e+00,  1.51773631e+00,  1.51934229e+00,  1.52075394e+00,\n",
       "        1.52197605e+00,  1.52301224e+00,  1.52386533e+00])"
      ]
     },
     "execution_count": 27,
     "metadata": {},
     "output_type": "execute_result"
    }
   ],
   "source": [
    "df_temp"
   ]
  },
  {
   "cell_type": "markdown",
   "id": "300fdb81",
   "metadata": {},
   "source": [
    "Plot some output"
   ]
  },
  {
   "cell_type": "code",
   "execution_count": 26,
   "id": "f6cd7869",
   "metadata": {},
   "outputs": [
    {
     "ename": "IndexError",
     "evalue": "only integers, slices (`:`), ellipsis (`...`), numpy.newaxis (`None`) and integer or boolean arrays are valid indices",
     "output_type": "error",
     "traceback": [
      "\u001b[0;31m---------------------------------------------------------------------------\u001b[0m",
      "\u001b[0;31mIndexError\u001b[0m                                Traceback (most recent call last)",
      "Input \u001b[0;32mIn [26]\u001b[0m, in \u001b[0;36m<cell line: 5>\u001b[0;34m()\u001b[0m\n\u001b[1;32m      2\u001b[0m axs\u001b[38;5;241m=\u001b[39maxs\u001b[38;5;241m.\u001b[39mflatten()\n\u001b[1;32m      3\u001b[0m fig\u001b[38;5;241m.\u001b[39msuptitle(\u001b[38;5;124m'\u001b[39m\u001b[38;5;124mCICERO SCM simulation\u001b[39m\u001b[38;5;124m'\u001b[39m)\n\u001b[0;32m----> 5\u001b[0m \u001b[43mdf_temp\u001b[49m\u001b[43m[\u001b[49m\u001b[38;5;124;43m'\u001b[39;49m\u001b[38;5;124;43mdT_glob\u001b[39;49m\u001b[38;5;124;43m'\u001b[39;49m\u001b[43m]\u001b[49m\u001b[38;5;241m.\u001b[39mplot(ylabel\u001b[38;5;241m=\u001b[39m\u001b[38;5;124m'\u001b[39m\u001b[38;5;124m(K)\u001b[39m\u001b[38;5;124m'\u001b[39m,ax\u001b[38;5;241m=\u001b[39maxs[\u001b[38;5;241m0\u001b[39m])\n\u001b[1;32m      6\u001b[0m df_temp[\u001b[38;5;124m'\u001b[39m\u001b[38;5;124mdT_NH\u001b[39m\u001b[38;5;124m'\u001b[39m]\u001b[38;5;241m.\u001b[39mplot(ylabel\u001b[38;5;241m=\u001b[39m\u001b[38;5;124m'\u001b[39m\u001b[38;5;124m(K)\u001b[39m\u001b[38;5;124m'\u001b[39m,ax\u001b[38;5;241m=\u001b[39maxs[\u001b[38;5;241m0\u001b[39m],linestyle\u001b[38;5;241m=\u001b[39m\u001b[38;5;124m'\u001b[39m\u001b[38;5;124m:\u001b[39m\u001b[38;5;124m'\u001b[39m)\n\u001b[1;32m      7\u001b[0m df_temp[\u001b[38;5;124m'\u001b[39m\u001b[38;5;124mdT_SH\u001b[39m\u001b[38;5;124m'\u001b[39m]\u001b[38;5;241m.\u001b[39mplot(ylabel\u001b[38;5;241m=\u001b[39m\u001b[38;5;124m'\u001b[39m\u001b[38;5;124m(K)\u001b[39m\u001b[38;5;124m'\u001b[39m,ax\u001b[38;5;241m=\u001b[39maxs[\u001b[38;5;241m0\u001b[39m],linestyle\u001b[38;5;241m=\u001b[39m\u001b[38;5;124m'\u001b[39m\u001b[38;5;124m:\u001b[39m\u001b[38;5;124m'\u001b[39m)\n",
      "\u001b[0;31mIndexError\u001b[0m: only integers, slices (`:`), ellipsis (`...`), numpy.newaxis (`None`) and integer or boolean arrays are valid indices"
     ]
    },
    {
     "data": {
      "image/png": "[encoded data removed]",
      "text/plain": [
       "<Figure size 1080x720 with 4 Axes>"
      ]
     },
     "metadata": {
      "needs_background": "light"
     },
     "output_type": "display_data"
    }
   ],
   "source": [
    "\n",
    "\n",
    "fig, axs = plt.subplots(nrows=2, ncols=2,figsize=(15,10))\n",
    "axs=axs.flatten()\n",
    "fig.suptitle('CICERO SCM simulation')\n",
    "\n",
    "df_temp['dT_glob'].plot(ylabel='(K)',ax=axs[0])\n",
    "df_temp['dT_NH'].plot(ylabel='(K)',ax=axs[0],linestyle=':')\n",
    "df_temp['dT_SH'].plot(ylabel='(K)',ax=axs[0],linestyle=':')\n",
    "axs[0].legend(['Global mean temperature','NH temperature','SH temperature'])\n",
    "\n",
    "df_conc['CO2'].plot(ylabel='(ppm)',ax=axs[1])\n",
    "axs[1].legend([r'CO$_2$ concentration'])\n",
    "\n",
    "df_em['CO2'].plot(ylabel='(GtC)',ax=axs[2])\n",
    "axs[2].legend([r'CO$_2$ emission'])\n",
    "\n",
    "df_forc['Total_forcing'].plot(ylabel='(Wm$^{-2}$)',ax=axs[3])\n",
    "df_forc['CO2'].plot(ylabel='(Wm$^{-2}$)',ax=axs[3],linestyle=':')\n",
    "df_forc['CH4'].plot(ylabel='(Wm$^{-2}$)',ax=axs[3],linestyle=':')\n",
    "df_forc['LANDUSE'].plot(ylabel='(Wm$^{-2}$)',ax=axs[3],linestyle=':')\n",
    "\n",
    "axs[3].legend([r'Total','CO$_2$','CH$_4$','Land Use'])"
   ]
  },
  {
   "cell_type": "markdown",
   "id": "f5b24acf",
   "metadata": {},
   "source": [
    "Plot concentrations"
   ]
  },
  {
   "cell_type": "code",
   "execution_count": null,
   "id": "8754df6d",
   "metadata": {},
   "outputs": [],
   "source": [
    "complist = np.arange(0,len(df_conc.columns))\n",
    "fig, axs = plt.subplots(nrows=12, ncols=4,sharex=True,figsize=(15,30))\n",
    "axs=axs.flatten()\n",
    "fig.suptitle('CICERO SCM simulation, concentrations')\n",
    "for i,c in enumerate(complist):\n",
    "\n",
    "    comp = df_conc.columns[c]\n",
    "    df_conc[comp].plot(ylabel='Conc. ['+df_comp.loc[comp]['CONC_UNIT']+']',\n",
    "                       ax=axs[i],label=scen)\n",
    "    axs[i].set_title(comp)\n",
    "    axs[i].legend()\n",
    "    axs[i].set_ylim(bottom=0)\n"
   ]
  },
  {
   "cell_type": "code",
   "execution_count": null,
   "id": "9d8da761",
   "metadata": {},
   "outputs": [],
   "source": []
  },
  {
   "cell_type": "code",
   "execution_count": null,
   "id": "036b9ef7",
   "metadata": {},
   "outputs": [],
   "source": [
    "scen = 'a4x'\n",
    "cscm._run(\n",
    "        {\n",
    "            \"gaspamfile\": os.path.join(test_data_dir, \"gases_v1RCMIP.txt\"),\n",
    "            \"output_prefix\": outdir,\n",
    "            \"nyend\": 2100,\n",
    "            \"concentrations_file\": os.path.join(test_data_dir, \"ssp245_conc_RCMIP.txt\"),\n",
    "            \"emissions_file\": os.path.join(test_data_dir, \"ssp245_em_RCMIP.txt\"),\n",
    "            \"nat_ch4_file\": os.path.join(test_data_dir, \"natemis_ch4.txt\"),\n",
    "            \"nat_n2o_file\": os.path.join(test_data_dir, \"natemis_n2o.txt\"),\n",
    "            \"conc_run\":True,\n",
    "            \"results_as_dict\":True\n",
    "        },\n",
    "        pamset_udm={\"threstemp\": 7.0, #scales vertical velocity as a function of mixed layer temperature\n",
    "                    \"rlamdo\":16.0,#air-sea heat exchange coefficient (wm^-2K^-1)\n",
    "                    \"akapa\":0.634, #vertical heat diffusivity\n",
    "                    \"cpi\":0.4, #temperature change ratio: polar to nonpolar region\n",
    "                    \"W\":4, #vertical velocity (m/yr)\n",
    "                    \"beto\":3.5, #ocean interhemispheric heat exchange coeff (Wm^-2K^-1)\n",
    "                    \"lambda\":0.54,\n",
    "                    \"mixed\":60.0,  #mixed layer depth\n",
    "                    \"foan\":0.61, #fraction of northern hemisphere covered by ocean\n",
    "                    \"foas\":0.81, #fraction of northern hemisphere covered by ocean\n",
    "                    \"ebbeta\":0.0,#atmospheric interhemispheric heat exchange \n",
    "                    \"fnso\":0.7531, #ocean area ratio, northern to southern hemisphere\n",
    "                    \"lm\":40, #number of vertical layers\n",
    "                    \"ldtime\":12\n",
    "                   },\n",
    "        pamset_emiconc={\"lamb\": 0.8,\n",
    "                    \"qbmb\":0.03,\n",
    "                    \"qo3\":0.4,\n",
    "                    \"qdirso2\":-.457,\n",
    "                    \"qindso2\":-.514,\n",
    "                    \"qbc\":.2,\n",
    "                    \"qoc\":-.103,\n",
    "                    \"ref_yr\":2010,\n",
    "                    \"idtm\":24},\n",
    "    )"
   ]
  },
  {
   "cell_type": "code",
   "execution_count": null,
   "id": "393b446a",
   "metadata": {},
   "outputs": [],
   "source": [
    "cscm.results.keys()"
   ]
  },
  {
   "cell_type": "code",
   "execution_count": null,
   "id": "8f21073a",
   "metadata": {},
   "outputs": [],
   "source": [
    "plt.plot(cscm.results['dT_glob'])"
   ]
  }
 ],
 "metadata": {
  "kernelspec": {
   "display_name": "Python 3 (ipykernel)",
   "language": "python",
   "name": "python3"
  },
  "language_info": {
   "codemirror_mode": {
    "name": "ipython",
    "version": 3
   },
   "file_extension": ".py",
   "mimetype": "text/x-python",
   "name": "python",
   "nbconvert_exporter": "python",
   "pygments_lexer": "ipython3",
   "version": "3.8.10"
  }
 },
 "nbformat": 4,
 "nbformat_minor": 5
}
